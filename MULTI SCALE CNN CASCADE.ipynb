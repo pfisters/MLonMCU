{
 "cells": [
  {
   "cell_type": "markdown",
   "metadata": {},
   "source": [
    "## Multi Scale CNN Cascade Network\n",
    "\n",
    "This notebook implements the multi scale cnn cascasde network proposed in the paper WIDER FACES"
   ]
  },
  {
   "source": [
    "import os\n",
    "import requests\n",
    "import zipfile\n",
    "import shutil\n",
    "from glob import iglob\n",
    "import numpy as np\n",
    "import tensorflow as tf\n",
    "from tensorflow.keras import layers, models, regularizers"
   ],
   "cell_type": "code",
   "metadata": {
    "scrolled": true
   },
   "execution_count": 1,
   "outputs": []
  },
  {
   "cell_type": "code",
   "execution_count": 2,
   "metadata": {},
   "outputs": [],
   "source": [
    "def download_file_from_google_drive(id, destination):\n",
    "    \n",
    "    def get_confirm_token(response):\n",
    "        for key, value in response.cookies.items():\n",
    "            if key.startswith('download_warning'):\n",
    "                return value\n",
    "\n",
    "        return None\n",
    "\n",
    "    def save_response_content(response, destination):\n",
    "        CHUNK_SIZE = 32768\n",
    "\n",
    "        with open(destination, \"wb\") as f:\n",
    "            for chunk in response.iter_content(CHUNK_SIZE):\n",
    "                if chunk: # filter out keep-alive new chunks\n",
    "                    f.write(chunk)\n",
    "\n",
    "    URL = \"https://docs.google.com/uc?export=download\"\n",
    "\n",
    "    session = requests.Session()\n",
    "\n",
    "    response = session.get(URL, params = { 'id' : id }, stream = True)\n",
    "    token = get_confirm_token(response)\n",
    "\n",
    "    if token:\n",
    "        params = { 'id' : id, 'confirm' : token }\n",
    "        response = session.get(URL, params = params, stream = True)\n",
    "\n",
    "    save_response_content(response, destination)"
   ]
  },
  {
   "cell_type": "code",
   "execution_count": 3,
   "metadata": {},
   "outputs": [],
   "source": [
    "# define paths\n",
    "current_path = os.getcwd()\n",
    "data_path = os.path.join(current_path, \"data\")\n",
    "\n",
    "# make data directory\n",
    "try:\n",
    "    os.makedirs(data_path)\n",
    "except Exception as e:\n",
    "    pass"
   ]
  },
  {
   "cell_type": "code",
   "execution_count": 4,
   "metadata": {},
   "outputs": [
    {
     "output_type": "stream",
     "name": "stdout",
     "text": [
      "downloading ... train.zip -- 1.47 GB\n"
     ]
    }
   ],
   "source": [
    "# download wider face training data\n",
    "if not os.path.exists(os.path.join(data_path, \"train.zip\")):\n",
    "    print(\"downloading ... train.zip -- 1.47 GB\")\n",
    "    download_file_from_google_drive(\n",
    "        \"0B6eKvaijfFUDQUUwd21EckhUbWs\", \n",
    "        os.path.join(data_path,\"train.zip\"))"
   ]
  },
  {
   "cell_type": "code",
   "execution_count": 5,
   "metadata": {},
   "outputs": [
    {
     "output_type": "stream",
     "name": "stdout",
     "text": [
      "downloading ... val.zip -- 362.8 MB\n"
     ]
    }
   ],
   "source": [
    "# download wider face validation data\n",
    "if not os.path.exists(os.path.join(data_path,\"val.zip\")):\n",
    "    print(\"downloading ... val.zip -- 362.8 MB\")\n",
    "    download_file_from_google_drive(\n",
    "        \"0B6eKvaijfFUDd3dIRmpvSk8tLUk\", \n",
    "        os.path.join(data_path,\"val.zip\"))\n"
   ]
  },
  {
   "cell_type": "code",
   "execution_count": 6,
   "metadata": {},
   "outputs": [
    {
     "output_type": "stream",
     "name": "stdout",
     "text": [
      "downloading ... wider_face_split.zip -- 3.6 MB\n"
     ]
    }
   ],
   "source": [
    "# download annotations\n",
    "url = 'http://mmlab.ie.cuhk.edu.hk/projects/WIDERFace/support/bbx_annotation/wider_face_split.zip'\n",
    "if not os.path.exists(os.path.join(data_path, 'wider_face_split.zip')):\n",
    "    print(\"downloading ... wider_face_split.zip -- 3.6 MB\")\n",
    "    r = requests.get(url, allow_redirects = True)\n",
    "    open(os.path.join(data_path, 'wider_face_split.zip'), 'wb').write(r.content)"
   ]
  },
  {
   "cell_type": "code",
   "execution_count": 7,
   "metadata": {},
   "outputs": [],
   "source": [
    "# unzip training data\n",
    "if not os.path.exists(os.path.join(data_path,\"WIDER_train\")):\n",
    "    with zipfile.ZipFile(os.path.join(data_path,\"train.zip\"),\"r\") as zip_ref:\n",
    "        zip_ref.extractall(data_path)"
   ]
  },
  {
   "cell_type": "code",
   "execution_count": 8,
   "metadata": {},
   "outputs": [],
   "source": [
    "# unzip validation data\n",
    "if not os.path.exists(os.path.join(data_path,\"WIDER_val\")):\n",
    "    with zipfile.ZipFile(os.path.join(data_path,\"val.zip\"),\"r\") as zip_ref:\n",
    "        zip_ref.extractall(data_path)"
   ]
  },
  {
   "cell_type": "code",
   "execution_count": 9,
   "metadata": {},
   "outputs": [],
   "source": [
    "# unzip annotations\n",
    "if not os.path.exists(os.path.join(data_path,\"wider_face_split\")):\n",
    "    with zipfile.ZipFile(os.path.join(data_path,\"wider_face_split.zip\"),\"r\") as zip_ref:\n",
    "        zip_ref.extractall(data_path)"
   ]
  },
  {
   "cell_type": "code",
   "execution_count": 13,
   "metadata": {},
   "outputs": [],
   "source": [
    "# remove zip files\n",
    "if os.path.exists(os.path.join(data_path, \"wider_face_split.zip\")):\n",
    "    os.remove(os.path.join(data_path, \"wider_face_split.zip\"))\n",
    "if os.path.exists(os.path.join(data_path, \"train.zip\")):\n",
    "    os.remove(os.path.join(data_path, \"train.zip\"))\n",
    "if os.path.exists(os.path.join(data_path, \"val.zip\")):\n",
    "    os.remove(os.path.join(data_path, \"val.zip\"))"
   ]
  },
  {
   "cell_type": "code",
   "execution_count": 14,
   "metadata": {},
   "outputs": [],
   "source": [
    "path = os.path.join(data_path, \"wider_face_split/wider_face_train_bbx_gt.txt\")"
   ]
  },
  {
   "cell_type": "code",
   "execution_count": 70,
   "metadata": {},
   "outputs": [],
   "source": [
    "def get_training_data(path, size):\n",
    "    # open file and read each line\n",
    "    f = open(path, 'r')\n",
    "    lines = f.readlines()\n",
    "    # create empty array for training data\n",
    "    training_data = []\n",
    "    # iterate over lines\n",
    "    i = 0\n",
    "    while i < len(lines):\n",
    "        # return if enough samples have been found\n",
    "        if len(training_data) >= size:\n",
    "            return training_data\n",
    "        # initialize new picture\n",
    "        picture = {}\n",
    "        # picture must start with file path\n",
    "        assert lines[i].endswith(\".jpg\\n\"), \"read fault \" + lines[i]\n",
    "        picture['path'] = lines[i][:-1] # remove \\n character\n",
    "        # next line contains number of faces\n",
    "        i += 1\n",
    "        number_of_faces = int(lines[i])\n",
    "        i += 1\n",
    "        faces = []\n",
    "        for j in range(i, i + number_of_faces):\n",
    "            face = {}\n",
    "            features = lines[j]\n",
    "            features = features.split(' ')\n",
    "            bb = features[:4]\n",
    "            face['bb'] = [int(i) for i in bb]\n",
    "            face['blur'] = features[4]\n",
    "            face['expression'] = features[5]\n",
    "            face['illumination'] = features[6]\n",
    "            face['occlusion'] = features[7]\n",
    "            face['pose'] = features[8]\n",
    "            face['invalid'] = features[9]\n",
    "            faces.append(face)\n",
    "\n",
    "        # increase the counter\n",
    "        i += number_of_faces\n",
    "        # add picture to training set\n",
    "        picture['faces'] = faces\n",
    "        training_data.append(picture)\n",
    "\n",
    "    return training_data"
   ]
  },
  {
   "cell_type": "code",
   "execution_count": 71,
   "metadata": {},
   "outputs": [],
   "source": [
    "train_data = get_training_data(path, 3)"
   ]
  },
  {
   "cell_type": "code",
   "execution_count": 79,
   "metadata": {},
   "outputs": [
    {
     "output_type": "execute_result",
     "data": {
      "text/plain": [
       "21"
      ]
     },
     "metadata": {},
     "execution_count": 79
    }
   ],
   "source": [
    "len(train_data[2]['faces'])"
   ]
  },
  {
   "cell_type": "code",
   "execution_count": 41,
   "metadata": {},
   "outputs": [
    {
     "output_type": "stream",
     "name": "stdout",
     "text": [
      "0--Parade/0_Parade_marchingband_1_849.jpg\n0--Parade/0_Parade_Parade_0_904.jpg\n0--Parade/0_Parade_marchingband_1_799.jpg\n"
     ]
    }
   ],
   "source": [
    "f = open(path, 'r')\n",
    "lines = f.readlines()\n",
    "filenames = []\n",
    "for i in range(0, 10):\n",
    "    if lines[i].endswith(\".jpg\\n\"):\n",
    "        filenames.append(lines[i])\n",
    "        print(lines[i][:-1])"
   ]
  },
  {
   "cell_type": "code",
   "execution_count": null,
   "metadata": {},
   "outputs": [],
   "source": []
  }
 ],
 "metadata": {
  "kernelspec": {
   "display_name": "Python 3",
   "language": "python",
   "name": "python3"
  },
  "language_info": {
   "codemirror_mode": {
    "name": "ipython",
    "version": 3
   },
   "file_extension": ".py",
   "mimetype": "text/x-python",
   "name": "python",
   "nbconvert_exporter": "python",
   "pygments_lexer": "ipython3",
   "version": "3.7.8-final"
  }
 },
 "nbformat": 4,
 "nbformat_minor": 2
}