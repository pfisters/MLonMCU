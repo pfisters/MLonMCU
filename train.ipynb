{
 "cells": [
  {
   "cell_type": "code",
   "execution_count": 1,
   "metadata": {},
   "outputs": [],
   "source": [
    "from tensorflow.keras.layers import Input, Dense, Conv2D, MaxPooling2D, PReLU, Flatten, Softmax\n",
    "from tensorflow.keras.models import Model, load_model\n",
    "from tensorflow.keras.preprocessing.image import img_to_array, load_img\n",
    "import tensorflow.compat.v1 as tf\n",
    "import tqdm\n",
    "import numpy as np\n",
    "import cv2\n",
    "import random"
   ]
  },
  {
   "cell_type": "code",
   "execution_count": 2,
   "metadata": {},
   "outputs": [],
   "source": [
    "def preprocess_image(image_path, size = None):\n",
    "    if size is not None:\n",
    "        img = load_img(image_path, target_size=size)\n",
    "    else:\n",
    "        img = load_img(image_path)\n",
    "    # scale image to [0,1]\n",
    "    img = img_to_array(img) / 255\n",
    "    # to numpy array\n",
    "    return np.array(img, dtype='float32')"
   ]
  },
  {
   "cell_type": "code",
   "execution_count": 3,
   "metadata": {},
   "outputs": [],
   "source": [
    "def create_scaled_batch(image, target_shape, stride):\n",
    "    (ih, iw, _) = image.shape\n",
    "    (h, w) = target_shape\n",
    "    (sx, sy) = stride\n",
    "    images = np.empty((1,w,h,3), dtype='float32')\n",
    "    coords = []\n",
    "    for y in range(h, ih, sy):\n",
    "        for x in range(w, iw, sx):\n",
    "            new_img = image[y-h:y, x-w:x, :]\n",
    "            new_img = new_img.reshape(1, *new_img.shape)\n",
    "            images = np.append(images, new_img, axis=0)\n",
    "            coords.append(np.array([x-w,y-h, x, y]))\n",
    "    return images, np.array(coords)"
   ]
  },
  {
   "cell_type": "code",
   "execution_count": 4,
   "metadata": {},
   "outputs": [],
   "source": [
    "def compute_scale_pyramid(m, min_layer):\n",
    "    scales = []\n",
    "    factor_count = 0\n",
    "\n",
    "    while min_layer >= 12:\n",
    "        scales += [m * np.power(SCALE_FACTOR, factor_count)]\n",
    "        min_layer *= SCALE_FACTOR\n",
    "        factor_count += 1\n",
    "    \n",
    "    return scales"
   ]
  },
  {
   "cell_type": "code",
   "execution_count": 5,
   "metadata": {},
   "outputs": [],
   "source": [
    "def resizing_scales(shape):\n",
    "    if len(shape) is not 3:\n",
    "        logging.fatal('Invalid argument')\n",
    "    (h, w, ch) = shape\n",
    "    \n",
    "    # initialize scale\n",
    "    prev_scale = 1.0\n",
    "\n",
    "    if min(w,h) > 500:\n",
    "        prev_scale = 500./min(w, h)\n",
    "    elif max(w,h) < 500:\n",
    "        prev_scale = 500./max(w, h)\n",
    "\n",
    "    w = int(w * prev_scale)\n",
    "    h = int(h * prev_scale)\n",
    "\n",
    "    # multi scale\n",
    "    scales = []\n",
    "    factor = 0.709\n",
    "    factor_count = 0\n",
    "    min_layer = min(h,w)\n",
    "    while min_layer >= 12:\n",
    "        scales += [prev_scale * pow(factor, factor_count)]\n",
    "        min_layer *= factor\n",
    "        factor_count += 1\n",
    "    \n",
    "    return scales"
   ]
  },
  {
   "cell_type": "code",
   "execution_count": 6,
   "metadata": {},
   "outputs": [],
   "source": [
    "def faces_PNet(cls_prob, roi, coords, scale, width, height, thres):\n",
    "    good = np.where(cls_prob>=thres)[0]\n",
    "    rectangles = (roi[good] * 12. + coords[good]) * scale\n",
    "    squares = rect2square(rectangles)\n",
    "    probs = cls_prob[good]\n",
    "    pick = []\n",
    "    for i in range(len(rectangles)):\n",
    "        x1 = int(max(0     ,squares[i][0]))\n",
    "        y1 = int(max(0     ,squares[i][1]))\n",
    "        x2 = int(min(width ,squares[i][2]))\n",
    "        y2 = int(min(height,squares[i][3]))\n",
    "        sc = probs[i]\n",
    "        if x2>x1 and y2>y1:\n",
    "            pick.append([x1,y1,x2,y2,sc])\n",
    "    return NMS(pick,0.3,'iou')\n"
   ]
  },
  {
   "cell_type": "code",
   "execution_count": 7,
   "metadata": {},
   "outputs": [],
   "source": [
    "def NMS(rectangles,threshold,type):\n",
    "    if len(rectangles)==0:\n",
    "        return rectangles\n",
    "    boxes = np.array(rectangles)\n",
    "    x1 = boxes[:,0]\n",
    "    y1 = boxes[:,1]\n",
    "    x2 = boxes[:,2]\n",
    "    y2 = boxes[:,3]\n",
    "    s  = boxes[:,4]\n",
    "    area = np.multiply(x2-x1+1, y2-y1+1)\n",
    "    I = np.array(s.argsort())\n",
    "    pick = []\n",
    "    while len(I)>0:\n",
    "        xx1 = np.maximum(x1[I[-1]], x1[I[0:-1]]) #I[-1] have hightest prob score, I[0:-1]->others\n",
    "        yy1 = np.maximum(y1[I[-1]], y1[I[0:-1]])\n",
    "        xx2 = np.minimum(x2[I[-1]], x2[I[0:-1]])\n",
    "        yy2 = np.minimum(y2[I[-1]], y2[I[0:-1]])\n",
    "        w = np.maximum(0.0, xx2 - xx1 + 1)\n",
    "        h = np.maximum(0.0, yy2 - yy1 + 1)\n",
    "        inter = w * h\n",
    "        if type == 'iom':\n",
    "            o = inter / np.minimum(area[I[-1]], area[I[0:-1]])\n",
    "        else:\n",
    "            o = inter / (area[I[-1]] + area[I[0:-1]] - inter)\n",
    "        pick.append(I[-1])\n",
    "        I = I[np.where(o<=threshold)[0]]\n",
    "    result_rectangle = boxes[pick].tolist()\n",
    "    return result_rectangle"
   ]
  },
  {
   "cell_type": "code",
   "execution_count": 8,
   "metadata": {},
   "outputs": [],
   "source": [
    "def rect2square(rectangles):\n",
    "    w = rectangles[:,2] - rectangles[:,0]\n",
    "    h = rectangles[:,3] - rectangles[:,1]\n",
    "    l = np.maximum(w,h).T\n",
    "    rectangles[:,0] = rectangles[:,0] + w*0.5 - l*0.5\n",
    "    rectangles[:,1] = rectangles[:,1] + h*0.5 - l*0.5 \n",
    "    rectangles[:,2:4] = rectangles[:,0:2] + np.repeat([l], 2, axis = 0).T \n",
    "    return rectangles"
   ]
  },
  {
   "cell_type": "code",
   "execution_count": 9,
   "metadata": {},
   "outputs": [],
   "source": [
    "def filter_face_rnet(cls_prob,roi,rectangles,width,height,threshold):\n",
    "    prob = cls_prob[:,0]\n",
    "    pick = np.where(prob>=threshold)\n",
    "    rectangles = np.array(rectangles)\n",
    "    x1  = rectangles[pick,0]\n",
    "    y1  = rectangles[pick,1]\n",
    "    x2  = rectangles[pick,2]\n",
    "    y2  = rectangles[pick,3]\n",
    "    sc  = np.array([prob[pick]]).T\n",
    "    dx1 = roi[pick,0]\n",
    "    dx2 = roi[pick,1]\n",
    "    dx3 = roi[pick,2]\n",
    "    dx4 = roi[pick,3]\n",
    "    w   = x2-x1\n",
    "    h   = y2-y1\n",
    "    x1  = np.array([(x1+dx1*w)[0]]).T\n",
    "    y1  = np.array([(y1+dx2*h)[0]]).T\n",
    "    x2  = np.array([(x2+dx3*w)[0]]).T\n",
    "    y2  = np.array([(y2+dx4*h)[0]]).T\n",
    "    rectangles = np.concatenate((x1,y1,x2,y2,sc),axis=1)\n",
    "    rectangles = rect2square(rectangles)\n",
    "    pick = []\n",
    "    for i in range(len(rectangles)):\n",
    "        x1 = int(max(0     ,rectangles[i][0]))\n",
    "        y1 = int(max(0     ,rectangles[i][1]))\n",
    "        x2 = int(min(width ,rectangles[i][2]))\n",
    "        y2 = int(min(height,rectangles[i][3]))\n",
    "        sc = rectangles[i][4]\n",
    "        if x2>x1 and y2>y1:\n",
    "            pick.append([x1,y1,x2,y2,sc])\n",
    "    return NMS(pick,0.3,'iou')"
   ]
  },
  {
   "cell_type": "code",
   "execution_count": 10,
   "metadata": {},
   "outputs": [],
   "source": [
    "def filter_face_onet(cls_prob,roi,rectangles,width,height,threshold):\n",
    "    prob = cls_prob[:,0]\n",
    "    pick = np.where(prob>=threshold)\n",
    "    rectangles = np.array(rectangles)\n",
    "    x1  = rectangles[pick,0]\n",
    "    y1  = rectangles[pick,1]\n",
    "    x2  = rectangles[pick,2]\n",
    "    y2  = rectangles[pick,3]\n",
    "    sc  = np.array([prob[pick]]).T\n",
    "    dx1 = roi[pick,0]\n",
    "    dx2 = roi[pick,1]\n",
    "    dx3 = roi[pick,2]\n",
    "    dx4 = roi[pick,3]\n",
    "    w   = x2-x1\n",
    "    h   = y2-y1\n",
    "    x1  = np.array([(x1+dx1*w)[0]]).T\n",
    "    y1  = np.array([(y1+dx2*h)[0]]).T\n",
    "    x2  = np.array([(x2+dx3*w)[0]]).T\n",
    "    y2  = np.array([(y2+dx4*h)[0]]).T\n",
    "    rectangles=np.concatenate((x1,y1,x2,y2,sc),axis=1)\n",
    "    pick = []\n",
    "    for i in range(len(rectangles)):\n",
    "        x1 = int(max(0     ,rectangles[i][0]))\n",
    "        y1 = int(max(0     ,rectangles[i][1]))\n",
    "        x2 = int(min(width ,rectangles[i][2]))\n",
    "        y2 = int(min(height,rectangles[i][3]))\n",
    "        if x2>x1 and y2>y1:\n",
    "            pick.append([x1,y1,x2,y2, rectangles[i][4]])\n",
    "    return NMS(pick,0.3,'iom')"
   ]
  },
  {
   "cell_type": "code",
   "execution_count": 11,
   "metadata": {},
   "outputs": [],
   "source": [
    "image_path = 'Sofia.jpeg'\n",
    "pweights_path = './models/pnet.h5'\n",
    "rweights_path = './models/rnet.h5'\n",
    "oweights_path = './models/onet.h5'"
   ]
  },
  {
   "cell_type": "code",
   "execution_count": 12,
   "metadata": {},
   "outputs": [],
   "source": [
    "pnet = load_model(pweights_path)\n",
    "rnet = load_model(rweights_path)\n",
    "onet = load_model(oweights_path)"
   ]
  },
  {
   "cell_type": "code",
   "execution_count": 13,
   "metadata": {},
   "outputs": [
    {
     "output_type": "stream",
     "name": "stdout",
     "text": [
      "Model: \"PNet\"\n__________________________________________________________________________________________________\nLayer (type)                    Output Shape         Param #     Connected to                     \n==================================================================================================\nPNet_Input (InputLayer)         [(None, 12, 12, 3)]  0                                            \n__________________________________________________________________________________________________\nPNet_CONV1 (Conv2D)             (None, 10, 10, 10)   280         PNet_Input[0][0]                 \n__________________________________________________________________________________________________\nPNet_PRELU1 (PReLU)             (None, 10, 10, 10)   10          PNet_CONV1[0][0]                 \n__________________________________________________________________________________________________\nPNet_MAXPOOL1 (MaxPooling2D)    (None, 5, 5, 10)     0           PNet_PRELU1[0][0]                \n__________________________________________________________________________________________________\nPNet_CONV2 (Conv2D)             (None, 3, 3, 16)     1456        PNet_MAXPOOL1[0][0]              \n__________________________________________________________________________________________________\nPNet_PRELU2 (PReLU)             (None, 3, 3, 16)     16          PNet_CONV2[0][0]                 \n__________________________________________________________________________________________________\nPNet_CONV3 (Conv2D)             (None, 1, 1, 32)     4640        PNet_PRELU2[0][0]                \n__________________________________________________________________________________________________\nPNet_PRELU3 (PReLU)             (None, 1, 1, 32)     32          PNet_CONV3[0][0]                 \n__________________________________________________________________________________________________\nFACE_CLASSIFIER (Conv2D)        (None, 1, 1, 1)      33          PNet_PRELU3[0][0]                \n__________________________________________________________________________________________________\nBB_REGRESSION (Conv2D)          (None, 1, 1, 4)      132         PNet_PRELU3[0][0]                \n==================================================================================================\nTotal params: 6,599\nTrainable params: 6,599\nNon-trainable params: 0\n__________________________________________________________________________________________________\n"
     ]
    }
   ],
   "source": [
    "pnet.summary()"
   ]
  },
  {
   "cell_type": "code",
   "execution_count": 14,
   "metadata": {},
   "outputs": [],
   "source": [
    "MIN_FACE_SIZE = 40\n",
    "SCALE_FACTOR = 0.709"
   ]
  },
  {
   "cell_type": "code",
   "execution_count": 15,
   "metadata": {},
   "outputs": [],
   "source": [
    "image = preprocess_image(image_path)\n",
    "print(image.shape)\n",
    "\n",
    "(orig_h, orig_w, ch) = image.shape\n",
    "scales = resizing_scales(image.shape)"
   ]
  },
  {
   "cell_type": "code",
   "execution_count": 22,
   "metadata": {},
   "outputs": [
    {
     "output_type": "stream",
     "name": "stderr",
     "text": [
      "  0%|          | 0/11 [00:00<?, ?it/s]WARNING:tensorflow:Model was constructed with shape (None, 12, 12, 3) for input Tensor(\"PNet_Input:0\", shape=(None, 12, 12, 3), dtype=float32), but it was called on an input with incompatible shape (None, 666, 500, 3).\n",
      "100%|██████████| 11/11 [00:03<00:00,  3.19it/s]\n"
     ]
    }
   ],
   "source": [
    "pnet_out = []\n",
    "coordinates = []\n",
    "for scale in tqdm.tqdm(scales):\n",
    "    new_h = int(orig_h * scale)\n",
    "    new_w = int(orig_w * scale)\n",
    "    scaled_img = preprocess_image(image_path, (new_h, new_w))\n",
    "    out = pnet.predict(np.expand_dims(scaled_img, 0))\n",
    "    pnet_out.append(out)"
   ]
  },
  {
   "cell_type": "code",
   "execution_count": 23,
   "metadata": {},
   "outputs": [],
   "source": [
    "output = pnet_out[0]"
   ]
  },
  {
   "cell_type": "code",
   "execution_count": 30,
   "metadata": {},
   "outputs": [
    {
     "output_type": "execute_result",
     "data": {
      "text/plain": [
       "(1, 328, 245, 4)"
      ]
     },
     "metadata": {},
     "execution_count": 30
    }
   ],
   "source": [
    "output[1].shape"
   ]
  },
  {
   "cell_type": "code",
   "execution_count": 28,
   "metadata": {},
   "outputs": [
    {
     "output_type": "execute_result",
     "data": {
      "text/plain": [
       "(1, 245, 328, 1)"
      ]
     },
     "metadata": {},
     "execution_count": 28
    }
   ],
   "source": [
    "np.transpose(output[0], (0,2,1,3)).shape"
   ]
  },
  {
   "cell_type": "code",
   "execution_count": null,
   "metadata": {},
   "outputs": [],
   "source": [
    "rectangles = []\n",
    "for output, scale, coords in zip(pnet_out, scales, coordinates):\n",
    "    size = output[0].shape[0]\n",
    "    cls_prob = output[0].reshape(size, -1)\n",
    "    roi_prob = output[1].reshape(size, -1)\n",
    "    rectangle = faces_PNet(cls_prob, roi_prob, coords, 1 / scale, orig_w, orig_h, 0.7)\n",
    "    rectangles.extend(rectangle)\n",
    "rectangles = NMS(rectangles, 0.7, 'iou')\n"
   ]
  },
  {
   "cell_type": "code",
   "execution_count": null,
   "metadata": {},
   "outputs": [],
   "source": [
    "len(rectangles)"
   ]
  },
  {
   "cell_type": "code",
   "execution_count": null,
   "metadata": {},
   "outputs": [],
   "source": [
    "crop_number = 0\n",
    "out = []\n",
    "predict_24_batch = []\n",
    "for rectangle in rectangles:\n",
    "    coords = [int(i) for i in rectangle]\n",
    "    crop_img = image[coords[1]:coords[3], coords[0]:coords[2]]\n",
    "    scale_img = cv2.resize(crop_img, (24,24))\n",
    "    predict_24_batch.append(scale_img)\n",
    "    crop_img += 1\n",
    "\n",
    "predict_24_batch = np.array(predict_24_batch)\n",
    "out = rnet.predict(predict_24_batch)"
   ]
  },
  {
   "cell_type": "code",
   "execution_count": null,
   "metadata": {},
   "outputs": [],
   "source": [
    "cls_prob = np.array(out[0])\n",
    "roi_prob = np.array(out[1])"
   ]
  },
  {
   "cell_type": "code",
   "execution_count": null,
   "metadata": {},
   "outputs": [],
   "source": [
    "rectangles = filter_face_rnet(cls_prob, roi_prob, rectangles, orig_w, orig_h, 0.7)"
   ]
  },
  {
   "cell_type": "code",
   "execution_count": null,
   "metadata": {},
   "outputs": [],
   "source": [
    "len(rectangles)"
   ]
  },
  {
   "cell_type": "code",
   "execution_count": null,
   "metadata": {},
   "outputs": [],
   "source": [
    "crop_number = 0\n",
    "predict_batch = []\n",
    "for rectangle in rectangles:\n",
    "    coords = [int(i) for i in rectangle]\n",
    "    crop_img = image[coords[1]:coords[3], coords[0]:coords[2]]\n",
    "    scale_img = cv2.resize(crop_img, (48, 48))\n",
    "    predict_batch.append(scale_img)\n",
    "    crop_number += 1\n",
    "\n",
    "predict_batch = np.array(predict_batch)\n",
    "output = onet.predict(predict_batch)"
   ]
  },
  {
   "cell_type": "code",
   "execution_count": null,
   "metadata": {},
   "outputs": [],
   "source": [
    "cls_prob = output[0]\n",
    "roi_prob = output[1]"
   ]
  },
  {
   "cell_type": "code",
   "execution_count": null,
   "metadata": {},
   "outputs": [],
   "source": [
    "rectangles = filter_face_onet(cls_prob, roi_prob, rectangles, orig_w, orig_h, 0.9)"
   ]
  },
  {
   "cell_type": "code",
   "execution_count": null,
   "metadata": {},
   "outputs": [],
   "source": [
    "rectangles"
   ]
  },
  {
   "source": [
    "### PUT IT ALL TOGETHER"
   ],
   "cell_type": "markdown",
   "metadata": {}
  },
  {
   "cell_type": "code",
   "execution_count": null,
   "metadata": {},
   "outputs": [],
   "source": [
    "img = cv2.imread(image_path)"
   ]
  },
  {
   "cell_type": "code",
   "execution_count": null,
   "metadata": {},
   "outputs": [],
   "source": [
    "draw = img.copy()\n",
    "for rectangle in rectangles:\n",
    "    if rectangle is not None:\n",
    "        rect = [int(i) for i in rectangle]\n",
    "        W = -rect[0] + rect[2]\n",
    "        H = -rect[1] + rect[3]\n",
    "        paddingH = 0.01 * W\n",
    "        paddingW = 0.01 * H\n",
    "        crop_img = img[int(rect[1]+paddingH):int(rect[3]-paddingH), int(rect[0]-paddingW):int(rect[2]+paddingW)]\n",
    "        crop_img = cv2.cvtColor(crop_img, cv2.COLOR_RGB2GRAY)\n",
    "        if crop_img is None:\n",
    "            continue\n",
    "        if crop_img.shape[0] < 0 or crop_img.shape[1] < 0:\n",
    "            continue\n",
    "        cv2.rectangle(draw, (rect[0], rect[1], rect[2], rect[3]), (255, 0, 0), 4)"
   ]
  },
  {
   "cell_type": "code",
   "execution_count": null,
   "metadata": {},
   "outputs": [],
   "source": [
    "cv2.imwrite('SOFIA_FACE.jpeg', draw)"
   ]
  },
  {
   "cell_type": "code",
   "execution_count": null,
   "metadata": {},
   "outputs": [],
   "source": []
  }
 ],
 "metadata": {
  "kernelspec": {
   "display_name": "Python 3",
   "language": "python",
   "name": "python3"
  },
  "language_info": {
   "codemirror_mode": {
    "name": "ipython",
    "version": 3
   },
   "file_extension": ".py",
   "mimetype": "text/x-python",
   "name": "python",
   "nbconvert_exporter": "python",
   "pygments_lexer": "ipython3",
   "version": "3.7.8-final"
  }
 },
 "nbformat": 4,
 "nbformat_minor": 4
}