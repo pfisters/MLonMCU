{
 "cells": [
  {
   "cell_type": "code",
   "execution_count": 1,
   "metadata": {},
   "outputs": [],
   "source": [
    "from tensorflow.keras.layers import Input, Dense, Conv2D, MaxPooling2D, PReLU, Flatten, Softmax\n",
    "from tensorflow.keras.models import Model\n",
    "from tensorflow.keras.preprocessing.image import img_to_array, load_img\n",
    "import tensorflow.compat.v1 as tf\n",
    "import numpy as np\n",
    "import cv2\n",
    "import random"
   ]
  },
  {
   "cell_type": "code",
   "execution_count": 2,
   "metadata": {},
   "outputs": [],
   "source": [
    "X = Input(shape = (12, 12, 3), name='PNet_Input')\n",
    "L = Conv2D(10, kernel_size=(3, 3), strides=(1, 1), padding='valid', name='PNet_CONV1')(X)\n",
    "L = PReLU(shared_axes=[1, 2], name='PNet_PRELU1')(L)\n",
    "L = MaxPooling2D(pool_size=(2, 2), strides=(2, 2), padding='same', name='PNet_MAXPOOL1')(L)\n",
    "\n",
    "L = Conv2D(16, kernel_size=(3, 3), strides=(1, 1), padding='valid', name='PNet_CONV2')(L)\n",
    "L = PReLU(shared_axes=[1, 2], name='PNet_PRELU2')(L)\n",
    "\n",
    "L = Conv2D(32, kernel_size=(3, 3), strides=(1, 1), padding='valid', name='PNet_CONV3')(L)\n",
    "L = PReLU(shared_axes=[1, 2], name='PNet_PRELU3')(L)\n",
    "\n",
    "classifier = Conv2D(1, kernel_size= (1, 1), strides= (1, 1), activation='sigmoid', name = 'FACE_CLASSIFIER')(L)\n",
    "regressor = Conv2D(4, kernel_size=(1, 1), strides=(1, 1), name = 'BB_REGRESSION')(L)\n",
    "\n",
    "p_net = Model(X, [classifier, regressor], name = 'PNet')"
   ]
  },
  {
   "cell_type": "code",
   "execution_count": 3,
   "metadata": {},
   "outputs": [],
   "source": [
    "# define the loss\n",
    "losses = {\n",
    "    \"FACE_CLASSIFIER\": \"binary_crossentropy\",\n",
    "    \"BB_REGRESSION\": \"mse\",\n",
    "}\n",
    "lossWeights = {\"FACE_CLASSIFIER\": 1.0, \"BB_REGRESSION\": 0.5}"
   ]
  },
  {
   "cell_type": "code",
   "execution_count": 4,
   "metadata": {},
   "outputs": [],
   "source": [
    "p_net.compile(\n",
    "    loss=losses,\n",
    "    loss_weights = lossWeights,\n",
    "    optimizer=tf.keras.optimizers.Adam(), \n",
    "    metrics=['accuracy']\n",
    ")"
   ]
  },
  {
   "cell_type": "code",
   "execution_count": 5,
   "metadata": {},
   "outputs": [
    {
     "output_type": "stream",
     "name": "stdout",
     "text": [
      "Model: \"PNet\"\n__________________________________________________________________________________________________\nLayer (type)                    Output Shape         Param #     Connected to                     \n==================================================================================================\nPNet_Input (InputLayer)         [(None, 12, 12, 3)]  0                                            \n__________________________________________________________________________________________________\nPNet_CONV1 (Conv2D)             (None, 10, 10, 10)   280         PNet_Input[0][0]                 \n__________________________________________________________________________________________________\nPNet_PRELU1 (PReLU)             (None, 10, 10, 10)   10          PNet_CONV1[0][0]                 \n__________________________________________________________________________________________________\nPNet_MAXPOOL1 (MaxPooling2D)    (None, 5, 5, 10)     0           PNet_PRELU1[0][0]                \n__________________________________________________________________________________________________\nPNet_CONV2 (Conv2D)             (None, 3, 3, 16)     1456        PNet_MAXPOOL1[0][0]              \n__________________________________________________________________________________________________\nPNet_PRELU2 (PReLU)             (None, 3, 3, 16)     16          PNet_CONV2[0][0]                 \n__________________________________________________________________________________________________\nPNet_CONV3 (Conv2D)             (None, 1, 1, 32)     4640        PNet_PRELU2[0][0]                \n__________________________________________________________________________________________________\nPNet_PRELU3 (PReLU)             (None, 1, 1, 32)     32          PNet_CONV3[0][0]                 \n__________________________________________________________________________________________________\nFACE_CLASSIFIER (Conv2D)        (None, 1, 1, 1)      33          PNet_PRELU3[0][0]                \n__________________________________________________________________________________________________\nBB_REGRESSION (Conv2D)          (None, 1, 1, 4)      132         PNet_PRELU3[0][0]                \n==================================================================================================\nTotal params: 6,599\nTrainable params: 6,599\nNon-trainable params: 0\n__________________________________________________________________________________________________\n"
     ]
    }
   ],
   "source": [
    "p_net.summary()"
   ]
  },
  {
   "cell_type": "code",
   "execution_count": 6,
   "metadata": {},
   "outputs": [],
   "source": [
    "EPOCHS = 50\n",
    "INIT_LR = 1e-3\n",
    "BS = 32\n",
    "IMAGE_DIMS = (12, 12, 3)"
   ]
  },
  {
   "cell_type": "code",
   "execution_count": 7,
   "metadata": {},
   "outputs": [],
   "source": [
    "IMAGE_SIZE = 12\n",
    "image_path = os.path.join('data', 'raw_%s' % IMAGE_SIZE)\n",
    "image_path_pos = os.path.join(image_path, 'pos')\n",
    "image_path_neg = os.path.join(image_path, 'neg')\n",
    "image_path_par = os.path.join(image_path, 'part')\n",
    "anno_path_pos = os.path.join(image_path_pos, '%s.txt' % IMAGE_SIZE)\n",
    "anno_path_neg = os.path.join(image_path_neg, '%s.txt' % IMAGE_SIZE)\n",
    "anno_path_par = os.path.join(image_path_par, '%s.txt' % IMAGE_SIZE)"
   ]
  },
  {
   "cell_type": "code",
   "execution_count": 8,
   "metadata": {},
   "outputs": [],
   "source": [
    "pos = open(anno_path_pos, 'r')\n",
    "images_pos = pos.readlines()\n",
    "neg = open(anno_path_neg, 'r')\n",
    "images_neg = neg.readlines()\n",
    "par = open(anno_path_par, 'r')\n",
    "images_par = par.readlines()\n",
    "\n",
    "images = images_pos + images_neg + images_par"
   ]
  },
  {
   "cell_type": "code",
   "execution_count": 9,
   "metadata": {},
   "outputs": [],
   "source": [
    "random.seed(42)\n",
    "random.shuffle(images)"
   ]
  },
  {
   "cell_type": "code",
   "execution_count": 10,
   "metadata": {},
   "outputs": [],
   "source": [
    "img_ = []\n",
    "cls_ = []\n",
    "bbx_ = []"
   ]
  },
  {
   "cell_type": "code",
   "execution_count": 11,
   "metadata": {},
   "outputs": [
    {
     "output_type": "execute_result",
     "data": {
      "text/plain": [
       "['./data/raw_12/part/2059.jpg -1 0.15 -0.06 -0.06 -0.18\\n',\n",
       " './data/raw_12/part/1904.jpg -1 0.33 0.16 -0.09 0.06\\n',\n",
       " './data/raw_12/neg/1845.jpg 0\\n',\n",
       " './data/raw_12/neg/871.jpg 0\\n',\n",
       " './data/raw_12/part/341.jpg -1 0.16 -0.16 -0.32 -0.13\\n',\n",
       " './data/raw_12/part/1742.jpg -1 -0.01 -0.19 -0.24 -0.13\\n',\n",
       " './data/raw_12/neg/2042.jpg 0\\n',\n",
       " './data/raw_12/pos/30.jpg 1 0.11 -0.26 0.09 -0.03\\n',\n",
       " './data/raw_12/neg/1086.jpg 0\\n',\n",
       " './data/raw_12/part/1048.jpg -1 0.32 0.00 -0.12 -0.20\\n']"
      ]
     },
     "metadata": {},
     "execution_count": 11
    }
   ],
   "source": [
    "images[:10]"
   ]
  },
  {
   "cell_type": "code",
   "execution_count": 12,
   "metadata": {},
   "outputs": [],
   "source": [
    "for image in images[:10]:\n",
    "    # remove new line character\n",
    "    image = image[:-1]\n",
    "    image_path = image.split(' ')[0]\n",
    "    # load and scale image\n",
    "    img = load_img(image_path, target_size=(IMAGE_SIZE, IMAGE_SIZE))\n",
    "    # scale image to [0,1]\n",
    "    img = img_to_array(img) / 255\n",
    "    # append to images\n",
    "    img_.append(img)\n",
    "\n",
    "    image_cat = int(image.split(' ')[1])\n",
    "    cls_.append(image_cat)\n",
    "    if image_cat is not 0:\n",
    "        [x1, y1, x2, y2] = image.split(' ')[2:]\n",
    "        bbx_.append((float(x1), float(y1), float(x2), float(y2)))\n",
    "    else:\n",
    "        bbx_.append((0.0,0.0,0.0,0.0))"
   ]
  },
  {
   "cell_type": "code",
   "execution_count": 13,
   "metadata": {},
   "outputs": [],
   "source": [
    "# convert data to numpy arrays\n",
    "data = np.array(img_, dtype='float32')\n",
    "bbx = np.array(bbx_, dtype='float32')\n",
    "cat = np.array(cls_, dtype='float32')"
   ]
  },
  {
   "cell_type": "code",
   "execution_count": 14,
   "metadata": {},
   "outputs": [],
   "source": [
    "bbx = bbx.reshape(bbx.shape[0], 1, 1, -1)\n",
    "cat = cat.reshape(cat.shape[0], 1, 1, -1)"
   ]
  },
  {
   "cell_type": "code",
   "execution_count": 16,
   "metadata": {},
   "outputs": [
    {
     "output_type": "stream",
     "name": "stdout",
     "text": [
      "Epoch 1/50\n",
      "1/1 [==============================] - 0s 1ms/step - loss: 0.5103 - FACE_CLASSIFIER_loss: 0.4839 - BB_REGRESSION_loss: 0.0528 - FACE_CLASSIFIER_accuracy: 0.4000 - BB_REGRESSION_accuracy: 0.0000e+00\n",
      "Epoch 2/50\n",
      "1/1 [==============================] - 0s 2ms/step - loss: 0.4631 - FACE_CLASSIFIER_loss: 0.4328 - BB_REGRESSION_loss: 0.0607 - FACE_CLASSIFIER_accuracy: 0.4000 - BB_REGRESSION_accuracy: 0.0000e+00\n",
      "Epoch 3/50\n",
      "1/1 [==============================] - 0s 2ms/step - loss: 0.4144 - FACE_CLASSIFIER_loss: 0.3794 - BB_REGRESSION_loss: 0.0699 - FACE_CLASSIFIER_accuracy: 0.4000 - BB_REGRESSION_accuracy: 0.0000e+00\n",
      "Epoch 4/50\n",
      "1/1 [==============================] - 0s 1ms/step - loss: 0.3632 - FACE_CLASSIFIER_loss: 0.3232 - BB_REGRESSION_loss: 0.0800 - FACE_CLASSIFIER_accuracy: 0.4000 - BB_REGRESSION_accuracy: 0.0000e+00\n",
      "Epoch 5/50\n",
      "1/1 [==============================] - 0s 1ms/step - loss: 0.3078 - FACE_CLASSIFIER_loss: 0.2622 - BB_REGRESSION_loss: 0.0912 - FACE_CLASSIFIER_accuracy: 0.4000 - BB_REGRESSION_accuracy: 0.0000e+00\n",
      "Epoch 6/50\n",
      "1/1 [==============================] - 0s 2ms/step - loss: 0.2473 - FACE_CLASSIFIER_loss: 0.1950 - BB_REGRESSION_loss: 0.1046 - FACE_CLASSIFIER_accuracy: 0.4000 - BB_REGRESSION_accuracy: 0.0000e+00\n",
      "Epoch 7/50\n",
      "1/1 [==============================] - 0s 1ms/step - loss: 0.1804 - FACE_CLASSIFIER_loss: 0.1205 - BB_REGRESSION_loss: 0.1199 - FACE_CLASSIFIER_accuracy: 0.4000 - BB_REGRESSION_accuracy: 0.0000e+00\n",
      "Epoch 8/50\n",
      "1/1 [==============================] - 0s 1ms/step - loss: 0.1070 - FACE_CLASSIFIER_loss: 0.0386 - BB_REGRESSION_loss: 0.1368 - FACE_CLASSIFIER_accuracy: 0.4000 - BB_REGRESSION_accuracy: 0.0000e+00\n",
      "Epoch 9/50\n",
      "1/1 [==============================] - 0s 2ms/step - loss: 0.0262 - FACE_CLASSIFIER_loss: -0.0514 - BB_REGRESSION_loss: 0.1552 - FACE_CLASSIFIER_accuracy: 0.4000 - BB_REGRESSION_accuracy: 0.0000e+00\n",
      "Epoch 10/50\n",
      "1/1 [==============================] - 0s 2ms/step - loss: -0.0625 - FACE_CLASSIFIER_loss: -0.1504 - BB_REGRESSION_loss: 0.1759 - FACE_CLASSIFIER_accuracy: 0.4000 - BB_REGRESSION_accuracy: 0.0000e+00\n",
      "Epoch 11/50\n",
      "1/1 [==============================] - 0s 6ms/step - loss: -0.1593 - FACE_CLASSIFIER_loss: -0.2588 - BB_REGRESSION_loss: 0.1991 - FACE_CLASSIFIER_accuracy: 0.4000 - BB_REGRESSION_accuracy: 0.0000e+00\n",
      "Epoch 12/50\n",
      "1/1 [==============================] - 0s 1ms/step - loss: -0.2640 - FACE_CLASSIFIER_loss: -0.3764 - BB_REGRESSION_loss: 0.2247 - FACE_CLASSIFIER_accuracy: 0.4000 - BB_REGRESSION_accuracy: 0.0000e+00\n",
      "Epoch 13/50\n",
      "1/1 [==============================] - 0s 2ms/step - loss: -0.3767 - FACE_CLASSIFIER_loss: -0.5031 - BB_REGRESSION_loss: 0.2527 - FACE_CLASSIFIER_accuracy: 0.4000 - BB_REGRESSION_accuracy: 0.0000e+00\n",
      "Epoch 14/50\n",
      "1/1 [==============================] - 0s 2ms/step - loss: -0.4981 - FACE_CLASSIFIER_loss: -0.6396 - BB_REGRESSION_loss: 0.2830 - FACE_CLASSIFIER_accuracy: 0.4000 - BB_REGRESSION_accuracy: 0.0000e+00\n",
      "Epoch 15/50\n",
      "1/1 [==============================] - 0s 2ms/step - loss: -0.6280 - FACE_CLASSIFIER_loss: -0.7867 - BB_REGRESSION_loss: 0.3173 - FACE_CLASSIFIER_accuracy: 0.4000 - BB_REGRESSION_accuracy: 0.0000e+00\n",
      "Epoch 16/50\n",
      "1/1 [==============================] - 0s 1ms/step - loss: -0.7668 - FACE_CLASSIFIER_loss: -0.9447 - BB_REGRESSION_loss: 0.3558 - FACE_CLASSIFIER_accuracy: 0.4000 - BB_REGRESSION_accuracy: 0.0000e+00\n",
      "Epoch 17/50\n",
      "1/1 [==============================] - 0s 2ms/step - loss: -0.9145 - FACE_CLASSIFIER_loss: -1.1136 - BB_REGRESSION_loss: 0.3982 - FACE_CLASSIFIER_accuracy: 0.4000 - BB_REGRESSION_accuracy: 0.0000e+00\n",
      "Epoch 18/50\n",
      "1/1 [==============================] - 0s 4ms/step - loss: -1.0706 - FACE_CLASSIFIER_loss: -1.2940 - BB_REGRESSION_loss: 0.4469 - FACE_CLASSIFIER_accuracy: 0.4000 - BB_REGRESSION_accuracy: 0.0000e+00\n",
      "Epoch 19/50\n",
      "1/1 [==============================] - 0s 2ms/step - loss: -1.2360 - FACE_CLASSIFIER_loss: -1.4877 - BB_REGRESSION_loss: 0.5034 - FACE_CLASSIFIER_accuracy: 0.4000 - BB_REGRESSION_accuracy: 0.0000e+00\n",
      "Epoch 20/50\n",
      "1/1 [==============================] - 0s 2ms/step - loss: -1.4141 - FACE_CLASSIFIER_loss: -1.6952 - BB_REGRESSION_loss: 0.5621 - FACE_CLASSIFIER_accuracy: 0.4000 - BB_REGRESSION_accuracy: 0.0000e+00\n",
      "Epoch 21/50\n",
      "1/1 [==============================] - 0s 4ms/step - loss: -1.6074 - FACE_CLASSIFIER_loss: -1.9176 - BB_REGRESSION_loss: 0.6205 - FACE_CLASSIFIER_accuracy: 0.4000 - BB_REGRESSION_accuracy: 0.0000e+00\n",
      "Epoch 22/50\n",
      "1/1 [==============================] - 0s 2ms/step - loss: -1.8181 - FACE_CLASSIFIER_loss: -2.1566 - BB_REGRESSION_loss: 0.6770 - FACE_CLASSIFIER_accuracy: 0.4000 - BB_REGRESSION_accuracy: 0.0000e+00\n",
      "Epoch 23/50\n",
      "1/1 [==============================] - 0s 2ms/step - loss: -2.0464 - FACE_CLASSIFIER_loss: -2.4145 - BB_REGRESSION_loss: 0.7361 - FACE_CLASSIFIER_accuracy: 0.4000 - BB_REGRESSION_accuracy: 0.0000e+00\n",
      "Epoch 24/50\n",
      "1/1 [==============================] - 0s 3ms/step - loss: -2.2950 - FACE_CLASSIFIER_loss: -2.6936 - BB_REGRESSION_loss: 0.7971 - FACE_CLASSIFIER_accuracy: 0.4000 - BB_REGRESSION_accuracy: 0.0000e+00\n",
      "Epoch 25/50\n",
      "1/1 [==============================] - 0s 1ms/step - loss: -2.5680 - FACE_CLASSIFIER_loss: -2.9948 - BB_REGRESSION_loss: 0.8535 - FACE_CLASSIFIER_accuracy: 0.4000 - BB_REGRESSION_accuracy: 0.0000e+00\n",
      "Epoch 26/50\n",
      "1/1 [==============================] - 0s 2ms/step - loss: -2.8695 - FACE_CLASSIFIER_loss: -3.3189 - BB_REGRESSION_loss: 0.8988 - FACE_CLASSIFIER_accuracy: 0.4000 - BB_REGRESSION_accuracy: 0.0000e+00\n",
      "Epoch 27/50\n",
      "1/1 [==============================] - 0s 2ms/step - loss: -3.2046 - FACE_CLASSIFIER_loss: -3.6676 - BB_REGRESSION_loss: 0.9261 - FACE_CLASSIFIER_accuracy: 0.4000 - BB_REGRESSION_accuracy: 0.0000e+00\n",
      "Epoch 28/50\n",
      "1/1 [==============================] - 0s 2ms/step - loss: -3.5769 - FACE_CLASSIFIER_loss: -4.0429 - BB_REGRESSION_loss: 0.9320 - FACE_CLASSIFIER_accuracy: 0.4000 - BB_REGRESSION_accuracy: 0.0000e+00\n",
      "Epoch 29/50\n",
      "1/1 [==============================] - 0s 1ms/step - loss: -3.9904 - FACE_CLASSIFIER_loss: -4.4481 - BB_REGRESSION_loss: 0.9155 - FACE_CLASSIFIER_accuracy: 0.4000 - BB_REGRESSION_accuracy: 0.0000e+00\n",
      "Epoch 30/50\n",
      "1/1 [==============================] - 0s 2ms/step - loss: -4.4486 - FACE_CLASSIFIER_loss: -4.8873 - BB_REGRESSION_loss: 0.8774 - FACE_CLASSIFIER_accuracy: 0.4000 - BB_REGRESSION_accuracy: 0.0000e+00\n",
      "Epoch 31/50\n",
      "1/1 [==============================] - 0s 3ms/step - loss: -4.9542 - FACE_CLASSIFIER_loss: -5.3636 - BB_REGRESSION_loss: 0.8187 - FACE_CLASSIFIER_accuracy: 0.4000 - BB_REGRESSION_accuracy: 0.0000e+00\n",
      "Epoch 32/50\n",
      "1/1 [==============================] - 0s 2ms/step - loss: -5.5110 - FACE_CLASSIFIER_loss: -5.8832 - BB_REGRESSION_loss: 0.7445 - FACE_CLASSIFIER_accuracy: 0.4000 - BB_REGRESSION_accuracy: 0.0000e+00\n",
      "Epoch 33/50\n",
      "1/1 [==============================] - 0s 2ms/step - loss: -6.1231 - FACE_CLASSIFIER_loss: -6.4529 - BB_REGRESSION_loss: 0.6596 - FACE_CLASSIFIER_accuracy: 0.4000 - BB_REGRESSION_accuracy: 0.0000e+00\n",
      "Epoch 34/50\n",
      "1/1 [==============================] - 0s 3ms/step - loss: -6.7951 - FACE_CLASSIFIER_loss: -7.0794 - BB_REGRESSION_loss: 0.5686 - FACE_CLASSIFIER_accuracy: 0.4000 - BB_REGRESSION_accuracy: 0.0000e+00\n",
      "Epoch 35/50\n",
      "1/1 [==============================] - 0s 5ms/step - loss: -7.5320 - FACE_CLASSIFIER_loss: -7.7696 - BB_REGRESSION_loss: 0.4752 - FACE_CLASSIFIER_accuracy: 0.4000 - BB_REGRESSION_accuracy: 0.0000e+00\n",
      "Epoch 36/50\n",
      "1/1 [==============================] - 0s 2ms/step - loss: -8.3389 - FACE_CLASSIFIER_loss: -8.5306 - BB_REGRESSION_loss: 0.3836 - FACE_CLASSIFIER_accuracy: 0.4000 - BB_REGRESSION_accuracy: 0.0000e+00\n",
      "Epoch 37/50\n",
      "1/1 [==============================] - 0s 2ms/step - loss: -9.2190 - FACE_CLASSIFIER_loss: -9.3688 - BB_REGRESSION_loss: 0.2998 - FACE_CLASSIFIER_accuracy: 0.4000 - BB_REGRESSION_accuracy: 0.0000e+00\n",
      "Epoch 38/50\n",
      "1/1 [==============================] - 0s 2ms/step - loss: -10.1756 - FACE_CLASSIFIER_loss: -10.2916 - BB_REGRESSION_loss: 0.2320 - FACE_CLASSIFIER_accuracy: 0.4000 - BB_REGRESSION_accuracy: 0.0000e+00\n",
      "Epoch 39/50\n",
      "1/1 [==============================] - 0s 2ms/step - loss: -11.2142 - FACE_CLASSIFIER_loss: -11.3061 - BB_REGRESSION_loss: 0.1840 - FACE_CLASSIFIER_accuracy: 0.4000 - BB_REGRESSION_accuracy: 0.0000e+00\n",
      "Epoch 40/50\n",
      "1/1 [==============================] - 0s 2ms/step - loss: -12.3433 - FACE_CLASSIFIER_loss: -12.4193 - BB_REGRESSION_loss: 0.1521 - FACE_CLASSIFIER_accuracy: 0.4000 - BB_REGRESSION_accuracy: 0.0000e+00\n",
      "Epoch 41/50\n",
      "1/1 [==============================] - 0s 1ms/step - loss: -13.5731 - FACE_CLASSIFIER_loss: -13.6383 - BB_REGRESSION_loss: 0.1305 - FACE_CLASSIFIER_accuracy: 0.4000 - BB_REGRESSION_accuracy: 0.1000\n",
      "Epoch 42/50\n",
      "1/1 [==============================] - 0s 2ms/step - loss: -14.9119 - FACE_CLASSIFIER_loss: -14.9700 - BB_REGRESSION_loss: 0.1162 - FACE_CLASSIFIER_accuracy: 0.4000 - BB_REGRESSION_accuracy: 0.2000\n",
      "Epoch 43/50\n",
      "1/1 [==============================] - 0s 3ms/step - loss: -16.3676 - FACE_CLASSIFIER_loss: -16.4223 - BB_REGRESSION_loss: 0.1092 - FACE_CLASSIFIER_accuracy: 0.4000 - BB_REGRESSION_accuracy: 0.2000\n",
      "Epoch 44/50\n",
      "1/1 [==============================] - 0s 2ms/step - loss: -17.9491 - FACE_CLASSIFIER_loss: -18.0026 - BB_REGRESSION_loss: 0.1070 - FACE_CLASSIFIER_accuracy: 0.4000 - BB_REGRESSION_accuracy: 0.3000\n",
      "Epoch 45/50\n",
      "1/1 [==============================] - 0s 2ms/step - loss: -19.6662 - FACE_CLASSIFIER_loss: -19.7188 - BB_REGRESSION_loss: 0.1052 - FACE_CLASSIFIER_accuracy: 0.4000 - BB_REGRESSION_accuracy: 0.6000\n",
      "Epoch 46/50\n",
      "1/1 [==============================] - 0s 2ms/step - loss: -21.5265 - FACE_CLASSIFIER_loss: -21.5795 - BB_REGRESSION_loss: 0.1060 - FACE_CLASSIFIER_accuracy: 0.4000 - BB_REGRESSION_accuracy: 0.8000\n",
      "Epoch 47/50\n",
      "1/1 [==============================] - 0s 3ms/step - loss: -23.5363 - FACE_CLASSIFIER_loss: -23.5933 - BB_REGRESSION_loss: 0.1140 - FACE_CLASSIFIER_accuracy: 0.4000 - BB_REGRESSION_accuracy: 0.7000\n",
      "Epoch 48/50\n",
      "1/1 [==============================] - 0s 2ms/step - loss: -25.7083 - FACE_CLASSIFIER_loss: -25.7700 - BB_REGRESSION_loss: 0.1233 - FACE_CLASSIFIER_accuracy: 0.4000 - BB_REGRESSION_accuracy: 0.7000\n",
      "Epoch 49/50\n",
      "1/1 [==============================] - 0s 2ms/step - loss: -28.0556 - FACE_CLASSIFIER_loss: -28.1200 - BB_REGRESSION_loss: 0.1288 - FACE_CLASSIFIER_accuracy: 0.4000 - BB_REGRESSION_accuracy: 0.6000\n",
      "Epoch 50/50\n",
      "1/1 [==============================] - 0s 2ms/step - loss: -30.5881 - FACE_CLASSIFIER_loss: -30.6552 - BB_REGRESSION_loss: 0.1343 - FACE_CLASSIFIER_accuracy: 0.4000 - BB_REGRESSION_accuracy: 0.5000\n"
     ]
    }
   ],
   "source": [
    "H = p_net.fit(\n",
    "    x=data,\n",
    "    y={\n",
    "        'FACE_CLASSIFIER' : cat,\n",
    "        'BB_REGRESSION' : bbx\n",
    "    },\n",
    "    epochs=EPOCHS)"
   ]
  },
  {
   "cell_type": "code",
   "execution_count": null,
   "metadata": {},
   "outputs": [],
   "source": []
  }
 ],
 "metadata": {
  "kernelspec": {
   "display_name": "Python 3",
   "language": "python",
   "name": "python3"
  },
  "language_info": {
   "codemirror_mode": {
    "name": "ipython",
    "version": 3
   },
   "file_extension": ".py",
   "mimetype": "text/x-python",
   "name": "python",
   "nbconvert_exporter": "python",
   "pygments_lexer": "ipython3",
   "version": "3.7.8-final"
  }
 },
 "nbformat": 4,
 "nbformat_minor": 4
}