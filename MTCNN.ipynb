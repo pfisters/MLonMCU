{
 "cells": [
  {
   "cell_type": "code",
   "execution_count": 1,
   "metadata": {},
   "outputs": [],
   "source": [
    "import cv2 as cv\n",
    "from mtcnn.mtcnn import MTCNN"
   ]
  },
  {
   "cell_type": "code",
   "execution_count": 2,
   "metadata": {},
   "outputs": [],
   "source": [
    "detector = MTCNN()\n",
    "image = cv.imread('Sofia.jpeg')\n",
    "result = detector.detect_faces(image)"
   ]
  },
  {
   "cell_type": "code",
   "execution_count": 7,
   "metadata": {},
   "outputs": [],
   "source": [
    "faces = [f for f in result if f['confidence'] > 0.95]"
   ]
  },
  {
   "cell_type": "code",
   "execution_count": 8,
   "metadata": {},
   "outputs": [
    {
     "output_type": "execute_result",
     "data": {
      "text/plain": [
       "[{'box': [603, 1735, 365, 478],\n",
       "  'confidence': 0.9995394945144653,\n",
       "  'keypoints': {'left_eye': (695, 1952),\n",
       "   'right_eye': (862, 1913),\n",
       "   'nose': (796, 2021),\n",
       "   'mouth_left': (726, 2102),\n",
       "   'mouth_right': (901, 2062)}}]"
      ]
     },
     "metadata": {},
     "execution_count": 8
    }
   ],
   "source": [
    "faces"
   ]
  },
  {
   "cell_type": "code",
   "execution_count": 6,
   "metadata": {},
   "outputs": [],
   "source": [
    "for face in faces:\n",
    "    bb = face['box']\n",
    "    kpts = face['keypoints']\n",
    "\n",
    "    cv.rectangle(image, (bb[0], bb[1]),(bb[0] + bb[2], bb[1] + bb[3]), (0,155,255), 2)\n",
    "    cv.circle(image,(kpts['left_eye']), 2, (0,155,255), 2)\n",
    "    cv.circle(image,(kpts['right_eye']), 2, (0,155,255), 2)\n",
    "    cv.circle(image,(kpts['nose']), 2, (0,155,255), 2)\n",
    "    cv.circle(image,(kpts['mouth_left']), 2, (0,155,255), 2)\n",
    "    cv.circle(image,(kpts['mouth_right']), 2, (0,155,255), 2)\n"
   ]
  },
  {
   "cell_type": "code",
   "execution_count": 9,
   "metadata": {},
   "outputs": [
    {
     "output_type": "execute_result",
     "data": {
      "text/plain": [
       "True"
      ]
     },
     "metadata": {},
     "execution_count": 9
    }
   ],
   "source": [
    "cv.imwrite('Sofia-mtcnn.jpg', image)"
   ]
  },
  {
   "cell_type": "code",
   "execution_count": null,
   "metadata": {},
   "outputs": [],
   "source": []
  }
 ],
 "metadata": {
  "kernelspec": {
   "display_name": "Python 3",
   "language": "python",
   "name": "python3"
  },
  "language_info": {
   "codemirror_mode": {
    "name": "ipython",
    "version": 3
   },
   "file_extension": ".py",
   "mimetype": "text/x-python",
   "name": "python",
   "nbconvert_exporter": "python",
   "pygments_lexer": "ipython3",
   "version": "3.7.8-final"
  }
 },
 "nbformat": 4,
 "nbformat_minor": 4
}