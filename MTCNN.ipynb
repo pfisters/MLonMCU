{
 "cells": [
  {
   "cell_type": "code",
   "execution_count": 1,
   "metadata": {},
   "outputs": [],
   "source": [
    "import cv2 as cv\n",
    "from mtcnn.mtcnn import MTCNN"
   ]
  },
  {
   "cell_type": "code",
   "execution_count": 6,
   "metadata": {},
   "outputs": [
    {
     "name": "stdout",
     "output_type": "stream",
     "text": [
      "WARNING:tensorflow:5 out of the last 34 calls to <function Model.make_predict_function.<locals>.predict_function at 0x7f8133390cb0> triggered tf.function retracing. Tracing is expensive and the excessive number of tracings could be due to (1) creating @tf.function repeatedly in a loop, (2) passing tensors with different shapes, (3) passing Python objects instead of tensors. For (1), please define your @tf.function outside of the loop. For (2), @tf.function has experimental_relax_shapes=True option that relaxes argument shapes that can avoid unnecessary retracing. For (3), please refer to https://www.tensorflow.org/tutorials/customization/performance#python_or_tensor_args and https://www.tensorflow.org/api_docs/python/tf/function for  more details.\n"
     ]
    }
   ],
   "source": [
    "detector = MTCNN()\n",
    "image = cv.imread('data/widerface/train/images/2--Demonstration/2_Demonstration_Demonstration_Or_Protest_2_2.jpg')\n",
    "result = detector.detect_faces(image)"
   ]
  },
  {
   "cell_type": "code",
   "execution_count": 7,
   "metadata": {},
   "outputs": [],
   "source": [
    "for face in result:\n",
    "    if face['confidence'] < 0.9:\n",
    "        continue\n",
    "    bb = face['box']\n",
    "    kpts = face['keypoints']\n",
    "\n",
    "    cv.rectangle(image, (bb[0], bb[1]),(bb[0] + bb[2], bb[1] + bb[3]), (0,155,255), 2)\n",
    "    cv.circle(image,(kpts['left_eye']), 2, (0,155,255), 2)\n",
    "    cv.circle(image,(kpts['right_eye']), 2, (0,155,255), 2)\n",
    "    cv.circle(image,(kpts['nose']), 2, (0,155,255), 2)\n",
    "    cv.circle(image,(kpts['mouth_left']), 2, (0,155,255), 2)\n",
    "    cv.circle(image,(kpts['mouth_right']), 2, (0,155,255), 2)\n"
   ]
  },
  {
   "cell_type": "code",
   "execution_count": 8,
   "metadata": {},
   "outputs": [
    {
     "data": {
      "text/plain": [
       "True"
      ]
     },
     "execution_count": 8,
     "metadata": {},
     "output_type": "execute_result"
    }
   ],
   "source": [
    "cv.imwrite('demo.jpg', image)"
   ]
  }
 ],
 "metadata": {
  "kernelspec": {
   "display_name": "Python 3",
   "language": "python",
   "name": "python3"
  },
  "language_info": {
   "codemirror_mode": {
    "name": "ipython",
    "version": 3
   },
   "file_extension": ".py",
   "mimetype": "text/x-python",
   "name": "python",
   "nbconvert_exporter": "python",
   "pygments_lexer": "ipython3",
   "version": "3.7.8"
  }
 },
 "nbformat": 4,
 "nbformat_minor": 4
}