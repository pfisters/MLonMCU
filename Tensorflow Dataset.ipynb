{
 "cells": [
  {
   "cell_type": "code",
   "execution_count": null,
   "metadata": {},
   "outputs": [],
   "source": [
    "!pip install tensorflow\n",
    "!pip install tensorflow-datasets\n",
    "!pip install keras"
   ]
  },
  {
   "cell_type": "code",
   "execution_count": 1,
   "metadata": {},
   "outputs": [],
   "source": [
    "import tensorflow as tf\n",
    "import tensorflow_datasets as tfds\n",
    "from tensorflow.keras import layers, models, regularizers\n",
    "import os"
   ]
  },
  {
   "cell_type": "code",
   "execution_count": 3,
   "metadata": {},
   "outputs": [],
   "source": [
    "(ds_train, ds_test), ds_info = tfds.load(\n",
    "    'wider_face',\n",
    "    split=['train', 'test'],\n",
    "    shuffle_files=True,\n",
    "    with_info=True,\n",
    ")\n"
   ]
  },
  {
   "cell_type": "code",
   "execution_count": 4,
   "metadata": {},
   "outputs": [
    {
     "output_type": "execute_result",
     "data": {
      "text/plain": [
       "tfds.core.DatasetInfo(\n",
       "    name='wider_face',\n",
       "    version=0.1.0,\n",
       "    description='WIDER FACE dataset is a face detection benchmark dataset, of which images are \n",
       "selected from the publicly available WIDER dataset. We choose 32,203 images and \n",
       "label 393,703 faces with a high degree of variability in scale, pose and \n",
       "occlusion as depicted in the sample images. WIDER FACE dataset is organized \n",
       "based on 61 event classes. For each event class, we randomly select 40%/10%/50% \n",
       "data as training, validation and testing sets. We adopt the same evaluation \n",
       "metric employed in the PASCAL VOC dataset. Similar to MALF and Caltech datasets,\n",
       "we do not release bounding box ground truth for the test images. Users are \n",
       "required to submit final prediction files, which we shall proceed to evaluate.',\n",
       "    homepage='http://shuoyang1213.me/WIDERFACE/',\n",
       "    features=FeaturesDict({\n",
       "        'faces': Sequence({\n",
       "            'bbox': BBoxFeature(shape=(4,), dtype=tf.float32),\n",
       "            'blur': tf.uint8,\n",
       "            'expression': tf.bool,\n",
       "            'illumination': tf.bool,\n",
       "            'invalid': tf.bool,\n",
       "            'occlusion': tf.uint8,\n",
       "            'pose': tf.bool,\n",
       "        }),\n",
       "        'image': Image(shape=(None, None, 3), dtype=tf.uint8),\n",
       "        'image/filename': Text(shape=(), dtype=tf.string),\n",
       "    }),\n",
       "    total_num_examples=32203,\n",
       "    splits={\n",
       "        'test': 16097,\n",
       "        'train': 12880,\n",
       "        'validation': 3226,\n",
       "    },\n",
       "    supervised_keys=None,\n",
       "    citation=\"\"\"@inproceedings{yang2016wider,\n",
       "    \tAuthor = {Yang, Shuo and Luo, Ping and Loy, Chen Change and Tang, Xiaoou},\n",
       "    \tBooktitle = {IEEE Conference on Computer Vision and Pattern Recognition (CVPR)},\n",
       "    \tTitle = {WIDER FACE: A Face Detection Benchmark},\n",
       "    \tYear = {2016}}\"\"\",\n",
       "    redistribution_info=,\n",
       ")"
      ]
     },
     "metadata": {},
     "execution_count": 4
    }
   ],
   "source": [
    "ds_info"
   ]
  },
  {
   "cell_type": "code",
   "execution_count": null,
   "metadata": {},
   "outputs": [],
   "source": [
    "# normalize input\n",
    "def normalize_img(faces, image, filename):\n",
    "  \"\"\"Normalizes images: `uint8` -> `float32`.\"\"\"\n",
    "  return tf.cast(image, tf.float32) / 255."
   ]
  },
  {
   "cell_type": "code",
   "execution_count": null,
   "metadata": {},
   "outputs": [],
   "source": [
    "first = train_dataset.take(1)\n",
    "first"
   ]
  },
  {
   "cell_type": "code",
   "execution_count": null,
   "metadata": {},
   "outputs": [],
   "source": [
    "ds_train"
   ]
  },
  {
   "cell_type": "code",
   "execution_count": null,
   "metadata": {},
   "outputs": [],
   "source": [
    "ds_train = ds_train.map(\n",
    "    normalize_img, num_parallel_calls=tf.data.experimental.AUTOTUNE)\n",
    "ds_train = ds_train.cache()\n",
    "ds_train = ds_train.shuffle(ds_info.splits['train'].num_examples)\n",
    "ds_train = ds_train.batch(128)\n",
    "ds_train = ds_train.prefetch(tf.data.experimental.AUTOTUNE)"
   ]
  },
  {
   "cell_type": "code",
   "execution_count": null,
   "metadata": {},
   "outputs": [],
   "source": []
  }
 ],
 "metadata": {
  "kernelspec": {
   "display_name": "Python 3",
   "language": "python",
   "name": "python3"
  },
  "language_info": {
   "codemirror_mode": {
    "name": "ipython",
    "version": 3
   },
   "file_extension": ".py",
   "mimetype": "text/x-python",
   "name": "python",
   "nbconvert_exporter": "python",
   "pygments_lexer": "ipython3",
   "version": "3.7.8-final"
  }
 },
 "nbformat": 4,
 "nbformat_minor": 4
}