{
 "cells": [
  {
   "cell_type": "code",
   "execution_count": 68,
   "metadata": {},
   "outputs": [
    {
     "output_type": "stream",
     "name": "stdout",
     "text": [
      "Requirement already satisfied: tensorflow in /Users/severinpfister/opt/anaconda3/envs/MLonMCU/lib/python3.7/site-packages (2.3.1)\n",
      "Requirement already satisfied: opt-einsum>=2.3.2 in /Users/severinpfister/opt/anaconda3/envs/MLonMCU/lib/python3.7/site-packages (from tensorflow) (3.3.0)\n",
      "Requirement already satisfied: google-pasta>=0.1.8 in /Users/severinpfister/opt/anaconda3/envs/MLonMCU/lib/python3.7/site-packages (from tensorflow) (0.2.0)\n",
      "Requirement already satisfied: keras-preprocessing<1.2,>=1.1.1 in /Users/severinpfister/opt/anaconda3/envs/MLonMCU/lib/python3.7/site-packages (from tensorflow) (1.1.2)\n",
      "Requirement already satisfied: astunparse==1.6.3 in /Users/severinpfister/opt/anaconda3/envs/MLonMCU/lib/python3.7/site-packages (from tensorflow) (1.6.3)\n",
      "Requirement already satisfied: wrapt>=1.11.1 in /Users/severinpfister/opt/anaconda3/envs/MLonMCU/lib/python3.7/site-packages (from tensorflow) (1.12.1)\n",
      "Requirement already satisfied: grpcio>=1.8.6 in /Users/severinpfister/opt/anaconda3/envs/MLonMCU/lib/python3.7/site-packages (from tensorflow) (1.31.0)\n",
      "Requirement already satisfied: absl-py>=0.7.0 in /Users/severinpfister/opt/anaconda3/envs/MLonMCU/lib/python3.7/site-packages (from tensorflow) (0.10.0)\n",
      "Requirement already satisfied: numpy<1.19.0,>=1.16.0 in /Users/severinpfister/opt/anaconda3/envs/MLonMCU/lib/python3.7/site-packages (from tensorflow) (1.18.5)\n",
      "Requirement already satisfied: termcolor>=1.1.0 in /Users/severinpfister/opt/anaconda3/envs/MLonMCU/lib/python3.7/site-packages (from tensorflow) (1.1.0)\n",
      "Requirement already satisfied: gast==0.3.3 in /Users/severinpfister/opt/anaconda3/envs/MLonMCU/lib/python3.7/site-packages (from tensorflow) (0.3.3)\n",
      "Requirement already satisfied: tensorboard<3,>=2.3.0 in /Users/severinpfister/opt/anaconda3/envs/MLonMCU/lib/python3.7/site-packages (from tensorflow) (2.3.0)\n",
      "Requirement already satisfied: tensorflow-estimator<2.4.0,>=2.3.0 in /Users/severinpfister/opt/anaconda3/envs/MLonMCU/lib/python3.7/site-packages (from tensorflow) (2.3.0)\n",
      "Requirement already satisfied: wheel>=0.26 in /Users/severinpfister/opt/anaconda3/envs/MLonMCU/lib/python3.7/site-packages (from tensorflow) (0.35.1)\n",
      "Requirement already satisfied: protobuf>=3.9.2 in /Users/severinpfister/opt/anaconda3/envs/MLonMCU/lib/python3.7/site-packages (from tensorflow) (3.13.0)\n",
      "Requirement already satisfied: six>=1.12.0 in /Users/severinpfister/opt/anaconda3/envs/MLonMCU/lib/python3.7/site-packages (from tensorflow) (1.15.0)\n",
      "Requirement already satisfied: h5py<2.11.0,>=2.10.0 in /Users/severinpfister/opt/anaconda3/envs/MLonMCU/lib/python3.7/site-packages (from tensorflow) (2.10.0)\n",
      "Requirement already satisfied: google-auth-oauthlib<0.5,>=0.4.1 in /Users/severinpfister/opt/anaconda3/envs/MLonMCU/lib/python3.7/site-packages (from tensorboard<3,>=2.3.0->tensorflow) (0.4.1)\n",
      "Requirement already satisfied: requests<3,>=2.21.0 in /Users/severinpfister/opt/anaconda3/envs/MLonMCU/lib/python3.7/site-packages (from tensorboard<3,>=2.3.0->tensorflow) (2.24.0)\n",
      "Requirement already satisfied: setuptools>=41.0.0 in /Users/severinpfister/opt/anaconda3/envs/MLonMCU/lib/python3.7/site-packages (from tensorboard<3,>=2.3.0->tensorflow) (41.0.0)\n",
      "Requirement already satisfied: werkzeug>=0.11.15 in /Users/severinpfister/opt/anaconda3/envs/MLonMCU/lib/python3.7/site-packages (from tensorboard<3,>=2.3.0->tensorflow) (1.0.1)\n",
      "Requirement already satisfied: google-auth<2,>=1.6.3 in /Users/severinpfister/opt/anaconda3/envs/MLonMCU/lib/python3.7/site-packages (from tensorboard<3,>=2.3.0->tensorflow) (1.22.1)\n",
      "Requirement already satisfied: markdown>=2.6.8 in /Users/severinpfister/opt/anaconda3/envs/MLonMCU/lib/python3.7/site-packages (from tensorboard<3,>=2.3.0->tensorflow) (3.3)\n",
      "Requirement already satisfied: tensorboard-plugin-wit>=1.6.0 in /Users/severinpfister/opt/anaconda3/envs/MLonMCU/lib/python3.7/site-packages (from tensorboard<3,>=2.3.0->tensorflow) (1.7.0)\n",
      "Requirement already satisfied: requests-oauthlib>=0.7.0 in /Users/severinpfister/opt/anaconda3/envs/MLonMCU/lib/python3.7/site-packages (from google-auth-oauthlib<0.5,>=0.4.1->tensorboard<3,>=2.3.0->tensorflow) (1.3.0)\n",
      "Requirement already satisfied: urllib3!=1.25.0,!=1.25.1,<1.26,>=1.21.1 in /Users/severinpfister/opt/anaconda3/envs/MLonMCU/lib/python3.7/site-packages (from requests<3,>=2.21.0->tensorboard<3,>=2.3.0->tensorflow) (1.25.10)\n",
      "Requirement already satisfied: certifi>=2017.4.17 in /Users/severinpfister/opt/anaconda3/envs/MLonMCU/lib/python3.7/site-packages (from requests<3,>=2.21.0->tensorboard<3,>=2.3.0->tensorflow) (2020.6.20)\n",
      "Requirement already satisfied: chardet<4,>=3.0.2 in /Users/severinpfister/opt/anaconda3/envs/MLonMCU/lib/python3.7/site-packages (from requests<3,>=2.21.0->tensorboard<3,>=2.3.0->tensorflow) (3.0.4)\n",
      "Requirement already satisfied: idna<3,>=2.5 in /Users/severinpfister/opt/anaconda3/envs/MLonMCU/lib/python3.7/site-packages (from requests<3,>=2.21.0->tensorboard<3,>=2.3.0->tensorflow) (2.10)\n",
      "Requirement already satisfied: cachetools<5.0,>=2.0.0 in /Users/severinpfister/opt/anaconda3/envs/MLonMCU/lib/python3.7/site-packages (from google-auth<2,>=1.6.3->tensorboard<3,>=2.3.0->tensorflow) (4.1.1)\n",
      "Requirement already satisfied: pyasn1-modules>=0.2.1 in /Users/severinpfister/opt/anaconda3/envs/MLonMCU/lib/python3.7/site-packages (from google-auth<2,>=1.6.3->tensorboard<3,>=2.3.0->tensorflow) (0.2.8)\n",
      "Requirement already satisfied: rsa<5,>=3.1.4; python_version >= \"3.5\" in /Users/severinpfister/opt/anaconda3/envs/MLonMCU/lib/python3.7/site-packages (from google-auth<2,>=1.6.3->tensorboard<3,>=2.3.0->tensorflow) (4.6)\n",
      "Requirement already satisfied: importlib-metadata; python_version < \"3.8\" in /Users/severinpfister/opt/anaconda3/envs/MLonMCU/lib/python3.7/site-packages (from markdown>=2.6.8->tensorboard<3,>=2.3.0->tensorflow) (2.0.0)\n",
      "Requirement already satisfied: oauthlib>=3.0.0 in /Users/severinpfister/opt/anaconda3/envs/MLonMCU/lib/python3.7/site-packages (from requests-oauthlib>=0.7.0->google-auth-oauthlib<0.5,>=0.4.1->tensorboard<3,>=2.3.0->tensorflow) (3.1.0)\n",
      "Requirement already satisfied: pyasn1<0.5.0,>=0.4.6 in /Users/severinpfister/opt/anaconda3/envs/MLonMCU/lib/python3.7/site-packages (from pyasn1-modules>=0.2.1->google-auth<2,>=1.6.3->tensorboard<3,>=2.3.0->tensorflow) (0.4.8)\n",
      "Requirement already satisfied: zipp>=0.5 in /Users/severinpfister/opt/anaconda3/envs/MLonMCU/lib/python3.7/site-packages (from importlib-metadata; python_version < \"3.8\"->markdown>=2.6.8->tensorboard<3,>=2.3.0->tensorflow) (3.3.0)\n",
      "Requirement already satisfied: tensorflow-datasets in /Users/severinpfister/opt/anaconda3/envs/MLonMCU/lib/python3.7/site-packages (4.1.0)\n",
      "Requirement already satisfied: tqdm in /Users/severinpfister/opt/anaconda3/envs/MLonMCU/lib/python3.7/site-packages (from tensorflow-datasets) (4.51.0)\n",
      "Requirement already satisfied: termcolor in /Users/severinpfister/opt/anaconda3/envs/MLonMCU/lib/python3.7/site-packages (from tensorflow-datasets) (1.1.0)\n",
      "Requirement already satisfied: requests>=2.19.0 in /Users/severinpfister/opt/anaconda3/envs/MLonMCU/lib/python3.7/site-packages (from tensorflow-datasets) (2.24.0)\n",
      "Requirement already satisfied: protobuf>=3.6.1 in /Users/severinpfister/opt/anaconda3/envs/MLonMCU/lib/python3.7/site-packages (from tensorflow-datasets) (3.13.0)\n",
      "Requirement already satisfied: dill in /Users/severinpfister/opt/anaconda3/envs/MLonMCU/lib/python3.7/site-packages (from tensorflow-datasets) (0.3.3)\n",
      "Requirement already satisfied: typing-extensions; python_version < \"3.8\" in /Users/severinpfister/opt/anaconda3/envs/MLonMCU/lib/python3.7/site-packages (from tensorflow-datasets) (3.7.4.3)\n",
      "Requirement already satisfied: six in /Users/severinpfister/opt/anaconda3/envs/MLonMCU/lib/python3.7/site-packages (from tensorflow-datasets) (1.15.0)\n",
      "Requirement already satisfied: future in /Users/severinpfister/opt/anaconda3/envs/MLonMCU/lib/python3.7/site-packages (from tensorflow-datasets) (0.18.2)\n",
      "Requirement already satisfied: absl-py in /Users/severinpfister/opt/anaconda3/envs/MLonMCU/lib/python3.7/site-packages (from tensorflow-datasets) (0.10.0)\n",
      "Requirement already satisfied: promise in /Users/severinpfister/opt/anaconda3/envs/MLonMCU/lib/python3.7/site-packages (from tensorflow-datasets) (2.3)\n",
      "Requirement already satisfied: tensorflow-metadata in /Users/severinpfister/opt/anaconda3/envs/MLonMCU/lib/python3.7/site-packages (from tensorflow-datasets) (0.25.0)\n",
      "Requirement already satisfied: numpy in /Users/severinpfister/opt/anaconda3/envs/MLonMCU/lib/python3.7/site-packages (from tensorflow-datasets) (1.18.5)\n",
      "Requirement already satisfied: attrs>=18.1.0 in /Users/severinpfister/opt/anaconda3/envs/MLonMCU/lib/python3.7/site-packages (from tensorflow-datasets) (20.2.0)\n",
      "Requirement already satisfied: importlib-resources; python_version < \"3.9\" in /Users/severinpfister/opt/anaconda3/envs/MLonMCU/lib/python3.7/site-packages (from tensorflow-datasets) (3.3.0)\n",
      "Requirement already satisfied: chardet<4,>=3.0.2 in /Users/severinpfister/opt/anaconda3/envs/MLonMCU/lib/python3.7/site-packages (from requests>=2.19.0->tensorflow-datasets) (3.0.4)\n",
      "Requirement already satisfied: certifi>=2017.4.17 in /Users/severinpfister/opt/anaconda3/envs/MLonMCU/lib/python3.7/site-packages (from requests>=2.19.0->tensorflow-datasets) (2020.6.20)\n",
      "Requirement already satisfied: idna<3,>=2.5 in /Users/severinpfister/opt/anaconda3/envs/MLonMCU/lib/python3.7/site-packages (from requests>=2.19.0->tensorflow-datasets) (2.10)\n",
      "Requirement already satisfied: urllib3!=1.25.0,!=1.25.1,<1.26,>=1.21.1 in /Users/severinpfister/opt/anaconda3/envs/MLonMCU/lib/python3.7/site-packages (from requests>=2.19.0->tensorflow-datasets) (1.25.10)\n",
      "Requirement already satisfied: setuptools in /Users/severinpfister/opt/anaconda3/envs/MLonMCU/lib/python3.7/site-packages (from protobuf>=3.6.1->tensorflow-datasets) (41.0.0)\n",
      "Requirement already satisfied: googleapis-common-protos<2,>=1.52.0 in /Users/severinpfister/opt/anaconda3/envs/MLonMCU/lib/python3.7/site-packages (from tensorflow-metadata->tensorflow-datasets) (1.52.0)\n",
      "Requirement already satisfied: zipp>=0.4; python_version < \"3.8\" in /Users/severinpfister/opt/anaconda3/envs/MLonMCU/lib/python3.7/site-packages (from importlib-resources; python_version < \"3.9\"->tensorflow-datasets) (3.3.0)\n",
      "Requirement already satisfied: keras in /Users/severinpfister/opt/anaconda3/envs/MLonMCU/lib/python3.7/site-packages (2.4.3)\n",
      "Requirement already satisfied: pyyaml in /Users/severinpfister/opt/anaconda3/envs/MLonMCU/lib/python3.7/site-packages (from keras) (5.3.1)\n",
      "Requirement already satisfied: h5py in /Users/severinpfister/opt/anaconda3/envs/MLonMCU/lib/python3.7/site-packages (from keras) (2.10.0)\n",
      "Requirement already satisfied: scipy>=0.14 in /Users/severinpfister/opt/anaconda3/envs/MLonMCU/lib/python3.7/site-packages (from keras) (1.3.1)\n",
      "Requirement already satisfied: numpy>=1.9.1 in /Users/severinpfister/opt/anaconda3/envs/MLonMCU/lib/python3.7/site-packages (from keras) (1.18.5)\n",
      "Requirement already satisfied: six in /Users/severinpfister/opt/anaconda3/envs/MLonMCU/lib/python3.7/site-packages (from h5py->keras) (1.15.0)\n"
     ]
    }
   ],
   "source": [
    "!pip install tensorflow\n",
    "!pip install tensorflow-datasets\n",
    "!pip install keras"
   ]
  },
  {
   "cell_type": "code",
   "execution_count": 69,
   "metadata": {},
   "outputs": [],
   "source": [
    "import tensorflow as tf\n",
    "import tensorflow_datasets as tfds\n",
    "from tensorflow.keras import layers, models, regularizers\n",
    "import os"
   ]
  },
  {
   "cell_type": "code",
   "execution_count": 70,
   "metadata": {},
   "outputs": [],
   "source": [
    "(ds_train, ds_test), ds_info = tfds.load(\n",
    "    'wider_face',\n",
    "    split=['train', 'test'],\n",
    "    shuffle_files=True,\n",
    "    with_info=True,\n",
    ")"
   ]
  },
  {
   "cell_type": "code",
   "execution_count": 71,
   "metadata": {},
   "outputs": [
    {
     "output_type": "execute_result",
     "data": {
      "text/plain": [
       "tfds.core.DatasetInfo(\n",
       "    name='wider_face',\n",
       "    version=0.1.0,\n",
       "    description='WIDER FACE dataset is a face detection benchmark dataset, of which images are \n",
       "selected from the publicly available WIDER dataset. We choose 32,203 images and \n",
       "label 393,703 faces with a high degree of variability in scale, pose and \n",
       "occlusion as depicted in the sample images. WIDER FACE dataset is organized \n",
       "based on 61 event classes. For each event class, we randomly select 40%/10%/50% \n",
       "data as training, validation and testing sets. We adopt the same evaluation \n",
       "metric employed in the PASCAL VOC dataset. Similar to MALF and Caltech datasets,\n",
       "we do not release bounding box ground truth for the test images. Users are \n",
       "required to submit final prediction files, which we shall proceed to evaluate.',\n",
       "    homepage='http://shuoyang1213.me/WIDERFACE/',\n",
       "    features=FeaturesDict({\n",
       "        'faces': Sequence({\n",
       "            'bbox': BBoxFeature(shape=(4,), dtype=tf.float32),\n",
       "            'blur': tf.uint8,\n",
       "            'expression': tf.bool,\n",
       "            'illumination': tf.bool,\n",
       "            'invalid': tf.bool,\n",
       "            'occlusion': tf.uint8,\n",
       "            'pose': tf.bool,\n",
       "        }),\n",
       "        'image': Image(shape=(None, None, 3), dtype=tf.uint8),\n",
       "        'image/filename': Text(shape=(), dtype=tf.string),\n",
       "    }),\n",
       "    total_num_examples=32203,\n",
       "    splits={\n",
       "        'test': 16097,\n",
       "        'train': 12880,\n",
       "        'validation': 3226,\n",
       "    },\n",
       "    supervised_keys=None,\n",
       "    citation=\"\"\"@inproceedings{yang2016wider,\n",
       "    \tAuthor = {Yang, Shuo and Luo, Ping and Loy, Chen Change and Tang, Xiaoou},\n",
       "    \tBooktitle = {IEEE Conference on Computer Vision and Pattern Recognition (CVPR)},\n",
       "    \tTitle = {WIDER FACE: A Face Detection Benchmark},\n",
       "    \tYear = {2016}}\"\"\",\n",
       "    redistribution_info=,\n",
       ")"
      ]
     },
     "metadata": {},
     "execution_count": 71
    }
   ],
   "source": [
    "ds_info"
   ]
  },
  {
   "cell_type": "code",
   "execution_count": null,
   "metadata": {},
   "outputs": [],
   "source": [
    "# normalize input\n",
    "def normalize_img(faces, image, filename):\n",
    "  \"\"\"Normalizes images: `uint8` -> `float32`.\"\"\"\n",
    "  return tf.cast(image, tf.float32) / 255."
   ]
  },
  {
   "cell_type": "code",
   "execution_count": 82,
   "metadata": {},
   "outputs": [
    {
     "output_type": "execute_result",
     "data": {
      "text/plain": [
       "<TakeDataset shapes: {faces: {bbox: (None, None, 4), blur: (None, None), expression: (None, None), illumination: (None, None), invalid: (None, None), occlusion: (None, None), pose: (None, None)}, image: (None, None, None, 3), image/filename: (None,)}, types: {faces: {bbox: tf.float32, blur: tf.uint8, expression: tf.bool, illumination: tf.bool, invalid: tf.bool, occlusion: tf.uint8, pose: tf.bool}, image: tf.uint8, image/filename: tf.string}>"
      ]
     },
     "metadata": {},
     "execution_count": 82
    }
   ],
   "source": [
    "first = train_dataset.take(1)\n",
    "first"
   ]
  },
  {
   "cell_type": "code",
   "execution_count": 77,
   "metadata": {},
   "outputs": [
    {
     "output_type": "execute_result",
     "data": {
      "text/plain": [
       "<_OptionsDataset shapes: {faces: {bbox: (None, 4), blur: (None,), expression: (None,), illumination: (None,), invalid: (None,), occlusion: (None,), pose: (None,)}, image: (None, None, 3), image/filename: ()}, types: {faces: {bbox: tf.float32, blur: tf.uint8, expression: tf.bool, illumination: tf.bool, invalid: tf.bool, occlusion: tf.uint8, pose: tf.bool}, image: tf.uint8, image/filename: tf.string}>"
      ]
     },
     "metadata": {},
     "execution_count": 77
    }
   ],
   "source": [
    "ds_train"
   ]
  },
  {
   "cell_type": "code",
   "execution_count": null,
   "metadata": {},
   "outputs": [],
   "source": [
    "ds_train = ds_train.map(\n",
    "    normalize_img, num_parallel_calls=tf.data.experimental.AUTOTUNE)\n",
    "ds_train = ds_train.cache()\n",
    "ds_train = ds_train.shuffle(ds_info.splits['train'].num_examples)\n",
    "ds_train = ds_train.batch(128)\n",
    "ds_train = ds_train.prefetch(tf.data.experimental.AUTOTUNE)"
   ]
  },
  {
   "cell_type": "code",
   "execution_count": null,
   "metadata": {},
   "outputs": [],
   "source": []
  }
 ],
 "metadata": {
  "kernelspec": {
   "display_name": "Python 3",
   "language": "python",
   "name": "python3"
  },
  "language_info": {
   "codemirror_mode": {
    "name": "ipython",
    "version": 3
   },
   "file_extension": ".py",
   "mimetype": "text/x-python",
   "name": "python",
   "nbconvert_exporter": "python",
   "pygments_lexer": "ipython3",
   "version": "3.7.8-final"
  }
 },
 "nbformat": 4,
 "nbformat_minor": 4
}