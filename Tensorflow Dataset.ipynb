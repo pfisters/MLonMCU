{
 "cells": [
  {
   "cell_type": "code",
   "execution_count": 54,
   "metadata": {},
   "outputs": [],
   "source": [
    "import tensorflow as tf\n",
    "import tensorflow_datasets as tfds\n",
    "from tensorflow.keras import layers, models, regularizers\n",
    "import os"
   ]
  },
  {
   "cell_type": "code",
   "execution_count": 23,
   "metadata": {},
   "outputs": [],
   "source": [
    "# define paths\n",
    "current_path = os.getcwd()\n",
    "data_path = os.path.join(current_path, \"data\")"
   ]
  },
  {
   "cell_type": "code",
   "execution_count": 56,
   "metadata": {},
   "outputs": [],
   "source": [
    "# define global variables\n",
    "BATCH_SIZE = 10"
   ]
  },
  {
   "cell_type": "markdown",
   "metadata": {},
   "source": [
    "#### load data"
   ]
  },
  {
   "cell_type": "code",
   "execution_count": 57,
   "metadata": {},
   "outputs": [],
   "source": [
    "datasets, info = tfds.load(\n",
    "    \"wider_face\",\n",
    "    with_info = True,\n",
    "    shuffle_files=True\n",
    "    , batch_size = BATCH_SIZE\n",
    ")"
   ]
  },
  {
   "cell_type": "code",
   "execution_count": 52,
   "metadata": {},
   "outputs": [
    {
     "name": "stdout",
     "output_type": "stream",
     "text": [
      "tfds.core.DatasetInfo(\n",
      "    name='wider_face',\n",
      "    version=0.1.0,\n",
      "    description='WIDER FACE dataset is a face detection benchmark dataset, of which images are \n",
      "selected from the publicly available WIDER dataset. We choose 32,203 images and \n",
      "label 393,703 faces with a high degree of variability in scale, pose and \n",
      "occlusion as depicted in the sample images. WIDER FACE dataset is organized \n",
      "based on 61 event classes. For each event class, we randomly select 40%/10%/50% \n",
      "data as training, validation and testing sets. We adopt the same evaluation \n",
      "metric employed in the PASCAL VOC dataset. Similar to MALF and Caltech datasets,\n",
      "we do not release bounding box ground truth for the test images. Users are \n",
      "required to submit final prediction files, which we shall proceed to evaluate.',\n",
      "    homepage='http://shuoyang1213.me/WIDERFACE/',\n",
      "    features=FeaturesDict({\n",
      "        'faces': Sequence({\n",
      "            'bbox': BBoxFeature(shape=(4,), dtype=tf.float32),\n",
      "            'blur': tf.uint8,\n",
      "            'expression': tf.bool,\n",
      "            'illumination': tf.bool,\n",
      "            'invalid': tf.bool,\n",
      "            'occlusion': tf.uint8,\n",
      "            'pose': tf.bool,\n",
      "        }),\n",
      "        'image': Image(shape=(None, None, 3), dtype=tf.uint8),\n",
      "        'image/filename': Text(shape=(), dtype=tf.string),\n",
      "    }),\n",
      "    total_num_examples=32203,\n",
      "    splits={\n",
      "        'test': 16097,\n",
      "        'train': 12880,\n",
      "        'validation': 3226,\n",
      "    },\n",
      "    supervised_keys=None,\n",
      "    citation=\"\"\"@inproceedings{yang2016wider,\n",
      "    \tAuthor = {Yang, Shuo and Luo, Ping and Loy, Chen Change and Tang, Xiaoou},\n",
      "    \tBooktitle = {IEEE Conference on Computer Vision and Pattern Recognition (CVPR)},\n",
      "    \tTitle = {WIDER FACE: A Face Detection Benchmark},\n",
      "    \tYear = {2016}}\"\"\",\n",
      "    redistribution_info=,\n",
      ")\n",
      "\n"
     ]
    }
   ],
   "source": [
    "print(info)"
   ]
  },
  {
   "cell_type": "code",
   "execution_count": 45,
   "metadata": {},
   "outputs": [],
   "source": [
    "# split into train and test\n",
    "train_dataset, test_dataset = datasets['train'], datasets['test']\n",
    "assert isinstance(train_dataset, tf.data.Dataset)"
   ]
  },
  {
   "cell_type": "code",
   "execution_count": null,
   "metadata": {},
   "outputs": [],
   "source": []
  },
  {
   "cell_type": "markdown",
   "metadata": {},
   "source": [
    "#### build model"
   ]
  },
  {
   "cell_type": "code",
   "execution_count": null,
   "metadata": {},
   "outputs": [],
   "source": []
  },
  {
   "cell_type": "code",
   "execution_count": 63,
   "metadata": {},
   "outputs": [
    {
     "ename": "NameError",
     "evalue": "name 'train_set' is not defined",
     "output_type": "error",
     "traceback": [
      "\u001b[0;31m---------------------------------------------------------------------------\u001b[0m",
      "\u001b[0;31mNameError\u001b[0m                                 Traceback (most recent call last)",
      "\u001b[0;32m<ipython-input-63-8cd790c09002>\u001b[0m in \u001b[0;36m<module>\u001b[0;34m\u001b[0m\n\u001b[1;32m      3\u001b[0m     layers.InputLayer(\n\u001b[1;32m      4\u001b[0m         input_shape=(\n\u001b[0;32m----> 5\u001b[0;31m             \u001b[0mtrain_set\u001b[0m\u001b[0;34m.\u001b[0m\u001b[0mshape\u001b[0m\u001b[0;34m[\u001b[0m\u001b[0;36m1\u001b[0m\u001b[0;34m]\u001b[0m\u001b[0;34m,\u001b[0m\u001b[0;34m\u001b[0m\u001b[0;34m\u001b[0m\u001b[0m\n\u001b[0m\u001b[1;32m      6\u001b[0m             \u001b[0mtrain_set\u001b[0m\u001b[0;34m.\u001b[0m\u001b[0mshape\u001b[0m\u001b[0;34m[\u001b[0m\u001b[0;36m2\u001b[0m\u001b[0;34m]\u001b[0m\u001b[0;34m,\u001b[0m\u001b[0;34m\u001b[0m\u001b[0;34m\u001b[0m\u001b[0m\n\u001b[1;32m      7\u001b[0m             train_set.shape[3]), \n",
      "\u001b[0;31mNameError\u001b[0m: name 'train_set' is not defined"
     ]
    }
   ],
   "source": [
    "model = tf.keras.models.Sequential()\n",
    "model.add(\n",
    "    layers.InputLayer(\n",
    "        input_shape=(\n",
    "            train_set.shape[1],\n",
    "            train_set.shape[2],\n",
    "            train_set.shape[3]), \n",
    "        batch_size=(batchSize)))\n",
    "\n",
    "model.add(\n",
    "    layers.Conv2D(\n",
    "        filters=96,\n",
    "        kernel_size=(7,7),\n",
    "        strides=(2,2),\n",
    "        padding=\"same\",\n",
    "        activation='relu',\n",
    "        input_shape=(train_set[0].shape)))\n",
    "\n"
   ]
  },
  {
   "cell_type": "code",
   "execution_count": 55,
   "metadata": {},
   "outputs": [
    {
     "data": {
      "text/plain": [
       "<bound method Model.summary of <tensorflow.python.keras.engine.sequential.Sequential object at 0x7fcd1ff20390>>"
      ]
     },
     "execution_count": 55,
     "metadata": {},
     "output_type": "execute_result"
    }
   ],
   "source": [
    "model.summary"
   ]
  },
  {
   "cell_type": "code",
   "execution_count": 66,
   "metadata": {},
   "outputs": [],
   "source": [
    "import numpy as np"
   ]
  },
  {
   "cell_type": "code",
   "execution_count": 67,
   "metadata": {},
   "outputs": [],
   "source": [
    "diag = np.sqrt(21*21 + 29.7*29.7)"
   ]
  },
  {
   "cell_type": "code",
   "execution_count": 68,
   "metadata": {},
   "outputs": [
    {
     "data": {
      "text/plain": [
       "36.37430411705494"
      ]
     },
     "execution_count": 68,
     "metadata": {},
     "output_type": "execute_result"
    }
   ],
   "source": [
    "diag"
   ]
  },
  {
   "cell_type": "code",
   "execution_count": null,
   "metadata": {},
   "outputs": [],
   "source": []
  }
 ],
 "metadata": {
  "kernelspec": {
   "display_name": "Python 3",
   "language": "python",
   "name": "python3"
  },
  "language_info": {
   "codemirror_mode": {
    "name": "ipython",
    "version": 3
   },
   "file_extension": ".py",
   "mimetype": "text/x-python",
   "name": "python",
   "nbconvert_exporter": "python",
   "pygments_lexer": "ipython3",
   "version": "3.7.8"
  }
 },
 "nbformat": 4,
 "nbformat_minor": 4
}
